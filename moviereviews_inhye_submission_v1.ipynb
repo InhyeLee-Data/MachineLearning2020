{
 "cells": [
  {
   "cell_type": "markdown",
   "metadata": {},
   "source": [
    "# Movie reviews\n",
    "\n",
    "This notebook takes you though a complete iteration of Machine Learning Assignment 1 - Movie reviews. The assignment details (including links to download the data) can be found [here](https://docs.google.com/document/d/1WGYw99e5q6j5V0Zrf2HveagU6URt_kVvdR8B9HYQ99E/edit?usp=sharing). "
   ]
  },
  {
   "cell_type": "code",
   "execution_count": 248,
   "metadata": {},
   "outputs": [],
   "source": [
    "# all imports and magic commands\n",
    "import numpy as np\n",
    "import pandas as pd\n",
    "import matplotlib.pyplot as plt\n",
    "from my_measures import BinaryClassificationPerformance\n",
    "from sklearn.feature_extraction.text import HashingVectorizer\n",
    "from sklearn.feature_extraction.text import TfidfTransformer\n",
    "from scipy.sparse import csr_matrix, hstack\n",
    "from sklearn.preprocessing import StandardScaler\n",
    "from sklearn.model_selection import train_test_split\n",
    "# for text cleaning\n",
    "import re # regular expression \n",
    "import string\n",
    "# draw plot here\n",
    "%matplotlib inline "
   ]
  },
  {
   "cell_type": "markdown",
   "metadata": {},
   "source": [
    "### IMPORTANT!!! Make sure you are using `BinaryClassificationPerformance` v1.02\n"
   ]
  },
  {
   "cell_type": "code",
   "execution_count": 205,
   "metadata": {
    "scrolled": true
   },
   "outputs": [
    {
     "name": "stdout",
     "output_type": "stream",
     "text": [
      "Help on class BinaryClassificationPerformance in module my_measures:\n",
      "\n",
      "class BinaryClassificationPerformance(builtins.object)\n",
      " |  BinaryClassificationPerformance(predictions, labels, desc, probabilities=None)\n",
      " |  \n",
      " |  Performance measures to evaluate the fit of a binary classification model, v1.02\n",
      " |  \n",
      " |  Methods defined here:\n",
      " |  \n",
      " |  __init__(self, predictions, labels, desc, probabilities=None)\n",
      " |      Initialize attributes: predictions-vector of predicted values for Y, labels-vector of labels for Y\n",
      " |  \n",
      " |  compute_measures(self)\n",
      " |      Compute performance measures defined by Flach p. 57\n",
      " |  \n",
      " |  img_indices(self)\n",
      " |      Get the indices of true and false positives to be able to locate the corresponding images in a list of image names\n",
      " |  \n",
      " |  ----------------------------------------------------------------------\n",
      " |  Data descriptors defined here:\n",
      " |  \n",
      " |  __dict__\n",
      " |      dictionary for instance variables (if defined)\n",
      " |  \n",
      " |  __weakref__\n",
      " |      list of weak references to the object (if defined)\n",
      "\n"
     ]
    }
   ],
   "source": [
    "help(BinaryClassificationPerformance)\n"
   ]
  },
  {
   "cell_type": "markdown",
   "metadata": {},
   "source": [
    "# Function for feature building and extraction on natural language data"
   ]
  },
  {
   "cell_type": "code",
   "execution_count": 288,
   "metadata": {},
   "outputs": [],
   "source": [
    "# function that takes raw data and completes all preprocessing required before model fits\n",
    "def process_raw_data(fn, my_random_seed, test=False):\n",
    "    # read and summarize data\n",
    "    movie_data = pd.read_csv(fn, sep='\\t') #fn filename  \n",
    "    print(\"movie_data is:\", type(movie_data))\n",
    "    print(\"movie_data has\", movie_data.shape[0], \"rows and\", movie_data.shape[1], \"columns\", \"\\n\")\n",
    "    print(\"the data types for each of the columns in movie_data:\")\n",
    "    print(movie_data.dtypes, \"\\n\")\n",
    "    print(\"the first 10 rows in movie_data:\")\n",
    "    print(movie_data.head(10))\n",
    "    \n",
    "    if (not test): \n",
    "        print(\"The rate of 'good' movie reviews in the dataset: \")\n",
    "        print(movie_data['sentiment'].mean()) # good 1 - bad 0\n",
    "\n",
    "    # word and punctuation count, before cleaning     \n",
    "    movie_data['word_count'] = movie_data['review'].str.split(' ').str.len()\n",
    "    movie_data['punc_count'] = movie_data['review'].str.count(\"\\.\")        \n",
    "\n",
    "    ## Text Cleaning ##   \n",
    "    # lowercase, remove text inside < >, remove punctuation - call cleaning\n",
    "    def initial_cleaning(t):\n",
    "            t = t.lower()\n",
    "            t = re.sub('\\<.*?\\>', '', t) \n",
    "            t = re.sub('[%s]' % re.escape(string.punctuation), '', t) \n",
    "            return t      \n",
    "    movie_data.review = movie_data.review.apply(lambda x: initial_cleaning(str(x)))\n",
    "    # stop words manual set up - count - remove\n",
    "    eng_stop = [\"i\", \"ive\", \"im\", \"id\", \"me\", \"my\", \"myself\", \"we\", \"weve\", \"were\", \"our\", \"ours\", \"ourselves\", \"you\", \"youve\", \"youre\",\"youd\", \"your\", \"yours\", \"yourself\", \"yourselves\", \"he\", \"hes\", \"hed\", \"him\", \"his\", \"himself\", \"she\", \"shes\", \"her\", \"hers\", \"herself\", \"it\", \"its\", \"itself\", \"they\", \"theyre\", \"theyve\",\"them\", \"their\", \"theirs\", \"themselves\", \"what\", \"which\", \"who\", \"whom\", \"this\", \"that\", \"these\", \"those\", \"am\", \"is\", \"are\", \"was\", \"were\", \"be\", \"been\", \"being\", \"have\", \"has\", \"had\", \"having\", \"do\", \"does\", \"did\", \"doing\", \"a\", \"an\", \"the\", \"and\", \"but\", \"if\", \"or\", \"because\", \"as\", \"until\", \"while\", \"of\", \"at\", \"by\", \"for\", \"with\", \"about\", \"against\", \"between\", \"into\", \"through\", \"during\", \"before\", \"after\", \"above\", \"below\", \"to\", \"from\", \"up\", \"down\", \"in\", \"out\", \"on\", \"off\", \"over\", \"under\", \"again\", \"further\", \"then\", \"once\", \"here\", \"there\", \"when\", \"where\", \"why\", \"how\", \"all\", \"any\", \"both\", \"each\", \"few\", \"more\", \"most\", \"other\", \"some\", \"such\", \"no\", \"nor\", \"not\", \"only\", \"own\", \"same\", \"so\", \"than\", \"too\", \"very\", \"s\", \"t\", \"can\", \"will\", \"just\", \"don\", \"should\", \"now\"]\n",
    "    movie_data['stop_count'] = movie_data['review'].apply(lambda x: len([x for x in x.split() if x in eng_stop]))      \n",
    "    movie_data['review'] = movie_data['review'].apply(lambda x: \" \".join(x for x in x.split() if x not in eng_stop)) \n",
    "    # newly calculated word count\n",
    "    movie_data['remainders_count'] = movie_data['review'].str.split(' ').str.len()\n",
    "    # Check some review data here \n",
    "    print(\"Sample of clean movie_data review: \")\n",
    "    print (movie_data.review.sample(n=3, random_state=10))\n",
    "\n",
    "    # vectorize Bag of Words from review text; as sparse matrix\n",
    "    hv = HashingVectorizer(n_features=2 ** 18, alternate_sign=False)\n",
    "    X_hv = hv.fit_transform(movie_data.review)\n",
    "    print(\"Shape of HashingVectorizer X:\")\n",
    "    print(X_hv.shape)\n",
    "    \n",
    "    # http://scikit-learn.org/stable/modules/generated/sklearn.feature_extraction.text.TfidfTransformer.html\n",
    "    # already normalized\n",
    "    transformer = TfidfTransformer()\n",
    "    X_tfidf = transformer.fit_transform(X_hv)\n",
    "    \n",
    "    # create additional quantitative features\n",
    "    # features to add to feature set\n",
    "    # got rid of \"word_count\", \"punc_count\", \"stop_count\",  \n",
    "    X_quant_features = movie_data[[\"remainders_count\"]]\n",
    "    print(\"Look at a few rows of the new quantitative features: \")\n",
    "    print(X_quant_features.head(10))\n",
    "    \n",
    "    # Combine all quantitative features into a single sparse matrix\n",
    "    X_quant_features_csr = csr_matrix(X_quant_features) # csr - Compressed Sparse Row matrix\n",
    "    X_combined = hstack([X_tfidf, X_quant_features_csr]) # hstack - Stack sparse matrices horizontally (column wise)\n",
    "    X_matrix = csr_matrix(X_combined) # convert to sparse matrix\n",
    "    print(\"Size of combined bag of words and new quantitative variables matrix:\")\n",
    "    print(X_matrix.shape)\n",
    "    \n",
    "    # Create `X`, scaled matrix of features\n",
    "    # feature scaling\n",
    "    sc = StandardScaler(with_mean=False)\n",
    "    X = sc.fit_transform(X_matrix)\n",
    "    print(X.shape)\n",
    "    if (not test):\n",
    "        y = movie_data['sentiment']\n",
    "    \n",
    "    # Create Training and Test Sets\n",
    "    # enter an integer for the random_state parameter; any integer will work\n",
    "    if (test):\n",
    "        X_submission_test = X\n",
    "        print(\"Shape of X_test for submission:\")\n",
    "        print(X_submission_test.shape)\n",
    "        print('SUCCESS!')\n",
    "        return(movie_data, X_submission_test)\n",
    "    else: \n",
    "        X_train, X_test, y_train, y_test, X_raw_train, X_raw_test = train_test_split(X, y, movie_data, test_size=0.2, random_state=my_random_seed)\n",
    "        print(\"Shape of X_train and X_test:\")\n",
    "        print(X_train.shape)\n",
    "        print(X_test.shape)\n",
    "        print(\"Shape of y_train and y_test:\")\n",
    "        print(y_train.shape)\n",
    "        print(y_test.shape)\n",
    "        print(\"Shape of X_raw_train and X_raw_test:\")\n",
    "        print(X_raw_train.shape)\n",
    "        print(X_raw_test.shape)\n",
    "        print('SUCCESS!')\n",
    "        return(X_train, X_test, y_train, y_test, X_raw_train, X_raw_test)"
   ]
  },
  {
   "cell_type": "markdown",
   "metadata": {},
   "source": [
    "# Create training and test sets from function"
   ]
  },
  {
   "cell_type": "code",
   "execution_count": 289,
   "metadata": {},
   "outputs": [
    {
     "name": "stdout",
     "output_type": "stream",
     "text": [
      "movie_data is: <class 'pandas.core.frame.DataFrame'>\n",
      "movie_data has 25000 rows and 3 columns \n",
      "\n",
      "the data types for each of the columns in movie_data:\n",
      "id           object\n",
      "sentiment     int64\n",
      "review       object\n",
      "dtype: object \n",
      "\n",
      "the first 10 rows in movie_data:\n",
      "        id  sentiment                                             review\n",
      "0   5814_8          1  With all this stuff going down at the moment w...\n",
      "1   2381_9          1  \\The Classic War of the Worlds\\\" by Timothy Hi...\n",
      "2   7759_3          0  The film starts with a manager (Nicholas Bell)...\n",
      "3   3630_4          0  It must be assumed that those who praised this...\n",
      "4   9495_8          1  Superbly trashy and wondrously unpretentious 8...\n",
      "5   8196_8          1  I dont know why people think this is such a ba...\n",
      "6   7166_2          0  This movie could have been very good, but come...\n",
      "7  10633_1          0  I watched this video at a friend's house. I'm ...\n",
      "8    319_1          0  A friend of mine bought this film for £1, and ...\n",
      "9  8713_10          1  <br /><br />This movie is full of references. ...\n",
      "The rate of 'good' movie reviews in the dataset: \n",
      "0.5\n",
      "Sample of clean movie_data review: \n",
      "18634    favorite classic filmed little west philadelph...\n",
      "1333     loved deep cover might like film well many poe...\n",
      "20315    watch lots scary movies least try worst 2nd wo...\n",
      "Name: review, dtype: object\n",
      "Shape of HashingVectorizer X:\n",
      "(25000, 262144)\n",
      "Look at a few rows of the new quantitative features: \n",
      "   remainders_count\n",
      "0               218\n",
      "1                81\n",
      "2               233\n",
      "3               194\n",
      "4               215\n",
      "5                44\n",
      "6                57\n",
      "7                69\n",
      "8                92\n",
      "9                25\n",
      "Size of combined bag of words and new quantitative variables matrix:\n",
      "(25000, 262145)\n",
      "(25000, 262145)\n",
      "Shape of X_train and X_test:\n",
      "(20000, 262145)\n",
      "(5000, 262145)\n",
      "Shape of y_train and y_test:\n",
      "(20000,)\n",
      "(5000,)\n",
      "Shape of X_raw_train and X_raw_test:\n",
      "(20000, 7)\n",
      "(5000, 7)\n",
      "SUCCESS!\n"
     ]
    }
   ],
   "source": [
    "# CHANGED FILE PATH and my_random_seed number : \n",
    "X_train, X_test, y_train, y_test, X_raw_train, X_raw_test = process_raw_data(fn='../final_data/moviereviews_train.tsv', my_random_seed=99)"
   ]
  },
  {
   "cell_type": "markdown",
   "metadata": {},
   "source": [
    "# Fit (and tune) Various Models"
   ]
  },
  {
   "cell_type": "markdown",
   "metadata": {},
   "source": [
    "### MODEL: ordinary least squares"
   ]
  },
  {
   "cell_type": "code",
   "execution_count": 266,
   "metadata": {},
   "outputs": [
    {
     "name": "stdout",
     "output_type": "stream",
     "text": [
      "{'Pos': 9988, 'Neg': 10012, 'TP': 5168, 'TN': 4904, 'FP': 5108, 'FN': 4820, 'Accuracy': 0.5036, 'Precision': 0.5029194239003504, 'Recall': 0.5174209050861033, 'desc': 'ols_train'}\n"
     ]
    }
   ],
   "source": [
    "from sklearn import linear_model\n",
    "ols = linear_model.SGDClassifier(loss=\"squared_loss\")\n",
    "ols.fit(X_train, y_train)\n",
    "\n",
    "ols_performance_train = BinaryClassificationPerformance(ols.predict(X_train), y_train, 'ols_train')\n",
    "ols_performance_train.compute_measures()\n",
    "print(ols_performance_train.performance_measures)"
   ]
  },
  {
   "cell_type": "markdown",
   "metadata": {},
   "source": [
    "### MODEL: SVM, linear"
   ]
  },
  {
   "cell_type": "code",
   "execution_count": 290,
   "metadata": {},
   "outputs": [
    {
     "name": "stdout",
     "output_type": "stream",
     "text": [
      "{'Pos': 9988, 'Neg': 10012, 'TP': 9988, 'TN': 10012, 'FP': 0, 'FN': 0, 'Accuracy': 1.0, 'Precision': 1.0, 'Recall': 1.0, 'desc': 'svm_train'}\n"
     ]
    }
   ],
   "source": [
    "from sklearn import linear_model\n",
    "svm = linear_model.SGDClassifier()\n",
    "svm.fit(X_train, y_train)\n",
    "\n",
    "svm_performance_train = BinaryClassificationPerformance(svm.predict(X_train), y_train, 'svm_train')\n",
    "svm_performance_train.compute_measures()\n",
    "print(svm_performance_train.performance_measures)"
   ]
  },
  {
   "cell_type": "markdown",
   "metadata": {},
   "source": [
    "### MODEL: logistic regression"
   ]
  },
  {
   "cell_type": "code",
   "execution_count": 302,
   "metadata": {},
   "outputs": [
    {
     "name": "stdout",
     "output_type": "stream",
     "text": [
      "{'Pos': 9988, 'Neg': 10012, 'TP': 9988, 'TN': 10012, 'FP': 0, 'FN': 0, 'Accuracy': 1.0, 'Precision': 1.0, 'Recall': 1.0, 'desc': 'lgs_train'}\n"
     ]
    }
   ],
   "source": [
    "from sklearn import linear_model\n",
    "lgs = linear_model.SGDClassifier(loss='log', max_iter=10000, alpha=0.001)\n",
    "lgs.fit(X_train, y_train)\n",
    "\n",
    "lgs_performance_train = BinaryClassificationPerformance(lgs.predict(X_train), y_train, 'lgs_train')\n",
    "lgs_performance_train.compute_measures()\n",
    "print(lgs_performance_train.performance_measures)"
   ]
  },
  {
   "cell_type": "markdown",
   "metadata": {},
   "source": [
    "### MODEL: Naive Bayes"
   ]
  },
  {
   "cell_type": "code",
   "execution_count": 292,
   "metadata": {},
   "outputs": [
    {
     "name": "stdout",
     "output_type": "stream",
     "text": [
      "{'Pos': 9988, 'Neg': 10012, 'TP': 9860, 'TN': 9947, 'FP': 65, 'FN': 128, 'Accuracy': 0.99035, 'Precision': 0.9934508816120907, 'Recall': 0.9871846215458551, 'desc': 'nbs_train'}\n"
     ]
    }
   ],
   "source": [
    "from sklearn.naive_bayes import MultinomialNB\n",
    "nbs = MultinomialNB()\n",
    "nbs.fit(X_train, y_train)\n",
    "\n",
    "nbs_performance_train = BinaryClassificationPerformance(nbs.predict(X_train), y_train, 'nbs_train')\n",
    "nbs_performance_train.compute_measures()\n",
    "print(nbs_performance_train.performance_measures)"
   ]
  },
  {
   "cell_type": "markdown",
   "metadata": {},
   "source": [
    "### MODEL: Perceptron"
   ]
  },
  {
   "cell_type": "code",
   "execution_count": 303,
   "metadata": {},
   "outputs": [
    {
     "name": "stdout",
     "output_type": "stream",
     "text": [
      "{'Pos': 9988, 'Neg': 10012, 'TP': 9988, 'TN': 10012, 'FP': 0, 'FN': 0, 'Accuracy': 1.0, 'Precision': 1.0, 'Recall': 1.0, 'desc': 'prc_train'}\n"
     ]
    }
   ],
   "source": [
    "from sklearn import linear_model\n",
    "prc = linear_model.SGDClassifier(loss='perceptron')\n",
    "prc.fit(X_train, y_train)\n",
    "\n",
    "prc_performance_train = BinaryClassificationPerformance(prc.predict(X_train), y_train, 'prc_train')\n",
    "prc_performance_train.compute_measures()\n",
    "print(prc_performance_train.performance_measures)"
   ]
  },
  {
   "cell_type": "markdown",
   "metadata": {},
   "source": [
    "### MODEL: Ridge Regression Classifier"
   ]
  },
  {
   "cell_type": "code",
   "execution_count": 304,
   "metadata": {},
   "outputs": [
    {
     "name": "stdout",
     "output_type": "stream",
     "text": [
      "{'Pos': 9988, 'Neg': 10012, 'TP': 9988, 'TN': 10012, 'FP': 0, 'FN': 0, 'Accuracy': 1.0, 'Precision': 1.0, 'Recall': 1.0, 'desc': 'rdg_train'}\n"
     ]
    }
   ],
   "source": [
    "from sklearn import linear_model\n",
    "rdg = linear_model.RidgeClassifier(alpha=0.0001)\n",
    "rdg.fit(X_train, y_train)\n",
    "\n",
    "rdg_performance_train = BinaryClassificationPerformance(rdg.predict(X_train), y_train, 'rdg_train')\n",
    "rdg_performance_train.compute_measures()\n",
    "print(rdg_performance_train.performance_measures)"
   ]
  },
  {
   "cell_type": "markdown",
   "metadata": {},
   "source": [
    "### MODEL: Random Forest Classifier"
   ]
  },
  {
   "cell_type": "code",
   "execution_count": 305,
   "metadata": {},
   "outputs": [
    {
     "name": "stderr",
     "output_type": "stream",
     "text": [
      "/Users/inhyelee/opt/anaconda3/lib/python3.7/site-packages/sklearn/ensemble/forest.py:245: FutureWarning: The default value of n_estimators will change from 10 in version 0.20 to 100 in 0.22.\n",
      "  \"10 in version 0.20 to 100 in 0.22.\", FutureWarning)\n"
     ]
    },
    {
     "name": "stdout",
     "output_type": "stream",
     "text": [
      "{'Pos': 9988, 'Neg': 10012, 'TP': 4323, 'TN': 7521, 'FP': 2491, 'FN': 5665, 'Accuracy': 0.5922, 'Precision': 0.6344291165248018, 'Recall': 0.43281938325991187, 'desc': 'rdf_train'}\n"
     ]
    }
   ],
   "source": [
    "from sklearn.ensemble import RandomForestClassifier\n",
    "rdf = RandomForestClassifier(max_depth=2, random_state=0)\n",
    "rdf.fit(X_train, y_train)\n",
    "\n",
    "rdf_performance_train = BinaryClassificationPerformance(rdf.predict(X_train), y_train, 'rdf_train')\n",
    "rdf_performance_train.compute_measures()\n",
    "print(rdf_performance_train.performance_measures)"
   ]
  },
  {
   "cell_type": "markdown",
   "metadata": {},
   "source": [
    "### ROC plot to compare performance of various models and fits"
   ]
  },
  {
   "cell_type": "code",
   "execution_count": 318,
   "metadata": {
    "scrolled": false
   },
   "outputs": [
    {
     "name": "stdout",
     "output_type": "stream",
     "text": [
      "-SVM-\n",
      "True Positive rate: \n",
      "1.0\n",
      "False Positive rate: \n",
      "0.0\n",
      "-Logistic-\n",
      "True Positive rate: \n",
      "1.0\n",
      "False Positive rate: \n",
      "0.0\n",
      "-Naive Bayes-\n",
      "True Positive rate: \n",
      "0.9871846215458551\n",
      "False Positive rate: \n",
      "0.0064922093487814626\n",
      "-Perceptron-\n",
      "True Positive rate: \n",
      "1.0\n",
      "False Positive rate: \n",
      "0.0\n",
      "-Ridge R-\n",
      "True Positive rate: \n",
      "1.0\n",
      "False Positive rate: \n",
      "0.0\n",
      "-Random Forest-\n",
      "True Positive rate: \n",
      "0.43281938325991187\n",
      "False Positive rate: \n",
      "0.2488014382740711\n"
     ]
    },
    {
     "data": {
      "image/png": "[encoded data removed]",
      "text/plain": [
       "<Figure size 432x288 with 1 Axes>"
      ]
     },
     "metadata": {
      "needs_background": "light"
     },
     "output_type": "display_data"
    }
   ],
   "source": [
    "# Removed are ols_performance_train\n",
    "fits = [svm_performance_train, lgs_performance_train, nbs_performance_train, prc_performance_train, rdg_performance_train, rdf_performance_train]\n",
    "fits_name = [\"-SVM-\", \"-Logistic-\", \"-Naive Bayes-\", \"-Perceptron-\", \"-Ridge R-\", \"-Random Forest-\"]\n",
    "for i, fit in enumerate(fits): \n",
    "    TP_POS_rate = fit.performance_measures['TP'] / fit.performance_measures['Pos']\n",
    "    FP_NEG_rate = fit.performance_measures['FP'] / fit.performance_measures['Neg']\n",
    "    # print in numbers \n",
    "    print(fits_name[i])\n",
    "    print(\"True Positive rate: \")\n",
    "    print(TP_POS_rate)\n",
    "    print(\"False Positive rate: \")\n",
    "    print(FP_NEG_rate)\n",
    "    # plt\n",
    "    plt.plot(FP_NEG_rate, TP_POS_rate, 'bo')\n",
    "    plt.text(FP_NEG_rate, TP_POS_rate, fit.desc)\n",
    "# draw\n",
    "plt.axis([0, 0.5, 0, 1])\n",
    "plt.title('ROC plot: test set')\n",
    "plt.xlabel('False positive rate')\n",
    "plt.ylabel('True positive rate')\n",
    "plt.show()\n",
    "\n"
   ]
  },
  {
   "cell_type": "markdown",
   "metadata": {},
   "source": [
    "### looking at reviews based on their classification\n",
    "\n",
    "Let's say we decide that Ordinary Least Squares (OLS) Regression is the best model for generalization. Let's take a look at some of the reviews and try to make a (subjective) determination of whether it's generalizing well. "
   ]
  },
  {
   "cell_type": "code",
   "execution_count": 237,
   "metadata": {},
   "outputs": [],
   "source": [
    "ols_predictions = ols.predict(X_train)"
   ]
  },
  {
   "cell_type": "markdown",
   "metadata": {},
   "source": [
    "### let's look at some false positives:"
   ]
  },
  {
   "cell_type": "code",
   "execution_count": 238,
   "metadata": {},
   "outputs": [
    {
     "name": "stdout",
     "output_type": "stream",
     "text": [
      "Examples of false positives:\n",
      "2\n",
      "first saw movie 7 years old christian scholl attended needless say scared mind scary contentcmoni 7 anyway cinematography pretty bad acting cheesy thats bad considering 7 remember one thing still haunts dreadful song wish ready chorus ends left behind wouldnt suggest seeing one probably nostalgic reason besides sure remake much better best part movie though everyone dissapears vacant cars crashing lawnmowers running ownpretty hilarious\n",
      "* * * * * * * * * \n",
      "26\n",
      "strained comedy sketchlike revue initially vehicle showcase onetime radio star jack pearl best remembered americas introduction three stooges actually larry curly moe billed alongside comic ted healy ted healy three stooges although supporting cast features jimmy durante completely wasted dim material zasu pitts audience film days stoogesaddicts even wont find much applaud incredibly loud overbearing shows far hollywood go reach certain level slapstick sophistication 12\n",
      "* * * * * * * * * \n",
      "94\n",
      "feel much less generous film others ilk portrayal madmen century always done totally bizarre different species antics outrageous totally fictionalized everyone napoleon historical figure fascination chickens make beating scriptwriter said make without sense insanity even mental illness watch wonderful human portrayal one flew cuckoos nest illnesses believable real worked state mental hospital didnt see guys smart calculating make come life\n",
      "* * * * * * * * * \n",
      "129\n",
      "yowza anyone loves laurel hardy watch movie feel good better person movie great attempt imitating laurel hardy appearance sound routine falls short honoring even movie substance blame larry harmon dialogue torn old lh movies planted unrealistically plot muddled useless characterization needless costars pinchots accent bizarre stan sartain excellent job ollies accent tried hard create wonderful mix mr hardy good musical number editing choppy acting stiff lines horrid physics implausable although perhaps trying give feel cheap sets overall terrible thing witness even painful watch atoll k legendary duo last film awful 1950s era writing photography favor watch much original laurel hardy films learn things know magnate dont stan laurel perpetually reply semimoronic quips every sentencei pity anyone thinks decent updatehonor boys classic theme song ruin heres another fine mess skip wiser pointless gaggle costars miss gulch wizard oz must larry harmon bozo learning channel help fund thingi mean really fart jokes gods sakefart jokes\n",
      "* * * * * * * * * \n",
      "183\n",
      "low expectations alleged reimagining original werent even met thinking answer werent please dont waste time hollywood trash fest clip nails balance checkbook anything besides watch remember rent stuff like ensure make\n",
      "* * * * * * * * * \n",
      "189\n",
      "first let say lds rather mormon watched film automatically gave benefit doubt usually find something redeeming every movie watch one exception redeeming moments far betweenone first things noticed bothered greatly seemed though halestorm ashamed church lds church congregations called wards basketball court cultural hall never either two names mentioned church never referred name standards far goes mentioning church believesit makes wonder directors really lds lds wannabes film much potential could really shown church positive light helped public see offer also believe instead mildly entertaining left much desired already lds left thinking mormons stupid idiotic ashamed beliefsit film recommend nonlds friendssorry halestorm better\n",
      "* * * * * * * * * \n",
      "570\n",
      "absolutely laughable film live london plot illresearched ridiculous one could terrorised london underground short time service night teams maintenance workers checking tracks performing repairs etc homeless people living equally unlikely even possible get locked access mobile phone day agethe worst thats likely happen someone find last train might get graffiti sprayed although coming control due massive number security cameras network another thorn side story remember london whole security cameras city worldif set city familiar perhaps could enjoyed ignorance high quality film couldnt bring suspend disbelief try enjoy banal little tale isi would given 010 rating existed possibly disappointing film ever thought would like\n",
      "* * * * * * * * * \n",
      "609\n",
      "scientist discovers signals space appear carry information concerning series seemingly unrelated natural disasters occurring across globe hoping discover source signals whos behind scientist wife set trek locate intended recipient signals couple eventually discovers small remote convent occupants really appear according dvd sleeves synopsiskirk scott andrew boran scientist intercepts alien messages computer suspects series large earth disruptions may connected weird space static mr scott pretty blonde wife sue lyon sylvia boran investigate mysterious signals outer space discover priestly creepy christopher lee father pergado silliness given end world remarkably dull end world 1977 john hayes kirk scott sue lyon christopher lee\n",
      "* * * * * * * * * \n",
      "618\n",
      "pathetic moviei wont waste much time commenting still trying get back couple hours wasted itlet leave simply shaq business actor singer utterly without talent discplines crying shame substantially talented people waste away community theatres karaoke bars shaq uses name basketball player undeservedly get cast movies cut cdsmuch failure movie pathetic notalent shaq\n",
      "* * * * * * * * * \n",
      "654\n",
      "disappointed movie thought scary movie although great movie good funny scary movie 2 hand boring funny times plain stupidthe exorcistamityville spoof probably best part movie james woods greatnow ill admit disadvantage since seen movies parodies unlike first basically seen bad comedy still bad comedysomething really hurt movie timing ruined might good jokes scenes jokes drag way longalso jokes keep getting repeated example talking bird ok funny first maybe even second time kept getting repeated point annoying routine wheelchair guy hanson chris elliott amusing first kept getting repeated ended stupid even tastelesssome jokes even got repeated first movie example creaming guess would call cindy anna faris funny scary movie cindy holding giving boyfriend sex long essentially blue balls hell funny creamed time around place funnythe bathroom sexual humor general amusing well timed first time around scat humor excessive though rather unneccessary second filmtori spelling annoying really place moviebut enjoy shorty marlon wayans opinion funniest character first film scene pot plant one favorites second filmdont get wrong love wayans family humor film disappointing lot comic ability endless scat jokes\n",
      "* * * * * * * * * \n",
      "748\n",
      "main comment movie zwick able get credible actors work movie impressive cast  even supporting characters none helps movie really admit though tom hanks cameo almost made worth  tom lose bet best cameo movie joe isuzu though far classic premise good basingers character struggling existence pink lady making way toward vegas motel motel pitching glorious pyramid cosmetic sales happens corbetts character way vegas deliver elvis suit soon exwife motivated else extortion make way numerous runins elvis impersonators way elvis impersonating convention vegas soon fbi gets involved begins track think elvis impersonator serial killer unfortunately premise doesnt mean movie goodwhen watching movie imagine back first grade  story lines continuity arent really important much enjoyable watch basinger look beautiful pink lady outfit rather wondering doesnt really make sense movie tries hard ultimately falls way way way short ultimately filled ideas could theoretically funny practice funnyit isnt worst may find feel like leaving building watching one dont say didnt warn\n",
      "* * * * * * * * * \n",
      "801\n",
      "sometime 1998 saban acquired rights produce brandnew ninja turtles liveaction series naturally fan tmnt back day obviously peaked interest started watching show say disappointed end result understatement time later like recently got chance revisit seriesfirst lets talk positives managed recreate turtles lair last seen movies fairly well given limited budget threw tends darker atmosphere overall terms sets whatnot turtle suits greatest piece puppetry whatnot functional seemed pretty sturdy action stuff would follow seriespeople tend complain getting rid shredder quickly replacing original villains could easily used power rangers show shredder get beat many times gets boring undermines worth villain besides fans dont realize dont remember plain ignore fact original comic shredder offed first issue never mind countless resurrections would follow personal standpoint sort glad got rid shredder anticipation would build point would eventually bring back later episode find shredder small quantities work best encounters turtles memorableunfortunately end replacing original villains stated seemed fit power rangers show ninja turtles show new magicwielding generics comes new female magicwielding turtle infamous venus de milo ill honest never got comfortable idea female turtle idea one uses magic thus sticks like sore sight among clan ninja turtles seem somewhat domain almost get impression could easily venus de milo show dealing makebelieve enemies tmnt provide star power whatever left considering timeframe released fortunately share spotlight togethernext mutation canned season air creators happy ignore given time maybe another season really believe live iteration tmnt could something might gotten chance greatness idea sound execution flawed although couple good episodes series stands next mutation one oddities turtledom best left buried forgotten\n",
      "* * * * * * * * * \n",
      "838\n",
      "saw one stage performances denver never less impressed word vagina says body part nothing shocking could say doctor left arm hurting bit tennis vagina hurts cycling equal social commentary could tricep monologues entertainment radical comment heard monologues dull delivered drama topics outdated alternately bored annoyed think laughed apparently wasnt supposed surely isnt really hit oh spoilers lesbian oh wait maybe come think inappropriate fondling crack mama covers\n",
      "* * * * * * * * * \n",
      "969\n",
      "rented film yesterday mostly due goodlooking art summary given back jacket popping dvd player reexamined jacket cover even though took cover plastic viewer still could read production detail information film film entitled evil jacket locate going faith films website find linkage imdbthe filming special affects done film looked quite good linereading actor spoke oh dear actors reading sounded like pimplefaced high school jock whose voice managed change pitch attempt given go beyond reading lines script first thought got bad disc audio sync surmise foreign film since couldnt read jacket english dialog dubbed theyd casted right person dubbing dialog film might decent gave chance 20 minutes ejecting discovered bad line reader wasnt going get killed stay constant main fixture yes bad jacket cover art art done film great gave one star minus 1999999 stars rotten dialog recommend one\n",
      "* * * * * * * * * \n",
      "1028\n",
      "watched phat beach cable sort enjoyed fat guy best character seems nice guy rest characters various stereotypes young men young black men like watch low budget movies capture period time almost like documentary years attitudes fads phat beach also funny lowbudget babes movie strictly homegirls lowbudget movies local babe quality tell babes movie local strippers underwear models jc penneys much cellulite hanging bikinis funny watch youngsters went wild essentially really overused highmileage skank cuties charm lowbudget crappy movies see lot doggies real cuties checked imdb seven years later phat beach credit bad would interesting someone ever managed book cuties appeared history movies never return happened probably one two young people almost every movie seem lot going yet years later see movie tv wonder ever happened x anyhow movie mostly blows funny moments\n",
      "* * * * * * * * * \n",
      "1192\n",
      "fanciful horror flick vincent price playing mad magician realizes vocational talents sold another devise ways avenging wronged master scheme seems back fire himprice little par compared masterpieces still reason watch thriller supporting cast includes patrick oneal mary murphy eva gabor jay novello\n",
      "* * * * * * * * * \n",
      "1215\n",
      "went knowing anything movie walked half hour knowing everything one worst movies ever seen generally nice person somebody told liked movie would probably never talk anybody likes throughly likely extremely dry hermit type personality gonna also include think pretty intelligent like selfcentered fart bags voices movie know everyone different types humor people may even like mine thats okay dont think covers range humor though movie flat dull wes andersons mind go get ready walk best get money back\n",
      "* * * * * * * * * \n",
      "1236\n",
      "miike like chabrol alternating art dreck sometimes confusing two match fiftyfifty rate claim chabrol see much little miike dont know dont know dont know could easily fill ten lines citing chakushin aris one missed calls steals allusions clichés others hit though perhaps ochiais saimin hypnosis sleazy telecast taunting things supernatural yumi takes zombielike mother arms one missed call startle littleone point interest renji ishibashi looks like christopher walken detective ishibashi auditions abusive back story dead alives boss aoki vat excrement drowning may convincingly evil character actor ever seen cop\n",
      "* * * * * * * * * \n",
      "1324\n",
      "said couple exiting movie theater entering watch hmm good sign knows different strokes different folks well nope kind godard released work passionate contempt entertaining band outsiders sometimes life live dull intellectualism grates nerves pretty quickly showing literally half audience walked end film wise\n",
      "* * * * * * * * * \n",
      "1609\n",
      "six different couples six different love stories six different love angles eighty numbers audience movie theater looking eighty different parts silver screeni sitting somewhere looking center screen find whats going movie stories got link somewhere line nikhil advani trying show relation tried find lines could write review end 3 hours 15 minutes found nothing write movie poor copy hollywood blockbuster love actuallymy suggestion dont watch movie really want watch nice movie\n",
      "* * * * * * * * * \n",
      "1631\n",
      "whabam someone surely fun devouring whole truckload acidmushrooms subsequently scripting crazy excuse motion picture writer howard cohen expands sword sorcery concept couple extra ss like sex silliness sex sheer stupidity isnt movie every juvenile perverts dreams fantasies come true deathstalker blood violence trolls female mudwrestling attempted rape successful rape lifesized pigs awful hairstyles hideously oiled muscular bodies multisexual orgies gay warriors tournamentstothedeath delirious witches dismemberment laughable villains boobs boobs booooooooobies deathstalker literally wipes floor obvious rolemodel conan barbarian comes terms cheesiness sheer flamboyance story evidently minor importance lone gay doesnt know yet warrior deathstalker goes mission commanded annoying witch gather three notorious elements creation something like journey combines forces trollturnedhuman fighter whos even gayer last least luscious lady doesnt really seem big support concept bras together head kingdom ultimately evil munkar theyll participate warriors tournament conquer less two three elements munkar bald guy half spiders web tattooed skull impressive harem would even make wealthiest oil sheik jealous okay granted deathstalker pretty damn awful times even unendurable movie fight sequences lame costumes makeup effects downright pitiable moment beholding opening sequence actually feared watching troll prequel monsters look incredibly cheesy complete opposite menacing undeniable entertainment undemanding mood presume isnt favorite amongst feminists overall portrayal women somewhat um discriminating gals exclusively serve eyecandy harem allowed crawl floor naked play around mud strictly forbidden open mouths two leading ladies barbi benton lana clarkson ravishing honesty wouldnt continuously exposed racks would hardly worth mentioning either\n",
      "* * * * * * * * * \n",
      "1644\n",
      "around late 1970s animator bluth frustrated output company disney churning defected mouse house form studio first production secret nimh brilliant feature still holds well day followed american tail land time made involvement steven spielberg commercially successful although none two films dark adult appeal nimh still charming enjoyable features children grownups long bluth first major misfire dogs go heaven critics especially harsh film matters werent helped fact opened alongside disneys little mermaidconsidering movie friendlysounding title one would expect dogs go heaven pleasant family fare instead bluth provides surprisingly dark story involving gambling deceit crime mistreatment murder problem animated feature per say call question whether film children hand hard say whether adults find much enjoy dogs go heaven short movie major identity crisisset dreary junkyard new orleans movie starts charlie b barkin roughandtumble german shepherd run car courtesy former gambling casino partner nasty cigarpuffing pitbull carface know charlie finds heaven albeit default whippet angel annabelle tells dogs go heaven unlike people dogs usually loyal kind line represents confused nature movie since dogs movie whippet aside presented anything butupon realizing murdered charlie steals way back earth plots get even carface reluctant help dachshund pal itchy charlie rescues carfaces prize annemarie human girl talk animals order predict win rat races charlie claims help little cutie find family reality using skills win fortunes race build elaborate casino bring carface although refuses admit charlie grow love annemariethe concept story isnt problematic execution aside human girl annemarie flamboyant musical alligator appears threequarters vocal pipes ken page none characters emerge likable frankly even worth caring unfortunately also applies charlie trying make antihero script composed ten writers succeeds rendering character unlovable audience feels empathy charlie worse redemption end movie come across convincing damaging character disappointingly uncharismatic vocal performance burt reynolds besides lack endearing lead movies problem structure story slowlypaced plot jumps place makes habit throwing extra scenes serve purpose pad movies running time aforementioned musical alligator resides danky sewer infested native rats seems thrown nowhere scene charlie tries show generosity annemarie feeding pack pastelcolored pups pizza whole screenplay feels like rough first draft bit polish could made tighter impactful storymatters helped lackluster musical numbers charlie strouse tj kuenster annemaries song gators ballad good ones latter particular benefits ken pages mellifluous vocal uneven voice cast mentioned burt reynolds stiff lifeless charlie detracts already unlikeable character even exception fiery confession itchy true intentions toward end dom deluise itchy pretty good better roles notably tiger american tail jeremy secret nimh ken page mentioned awesome anything character small part overall contribution unremarkable best similarly wasted loni anderson collie sired litter charlie melba moore charles nelson reilly judith barsi annemarie probably voice comes across truly memorable partially character sole legitimately likable one depressing joyless showbarsi aside real positive dogs go heaven animation technically film imaginative visuals bluths team 1980s standards particularly frightening scene charlie nightmare ending fiery underworld ruled gargantuan satanic caninedemon anything movie triumph animation storytellingon whole however cannot recommend dogs go heaven good entertainment even though recognize movie fans climax admittingly provide energy moving conclusion overall package league bluths better efforts animation buffs marvel lush artistry time dogs go heaven could well leave bad taste mouth\n",
      "* * * * * * * * * \n",
      "1669\n",
      "well writing sloppy directing sloppier editing made worse least hope editing acting wasnt bad wasnt good either pretty much none characters likable least 45 minutes movie wasted time hour used anywhere near full potential great idea yet another wasted good idea goes could ended 3 different places kept going mostly predictable hollywood ending wasnt predictable done badly didnt matter ending worth watching sandra bullock element stay away types movies movie looked rushed also movie wasnt really worth seeing paid would mad maybe disappointed expected really good movie got bad one movie horrifibly bad wouldnt reccomend gave 2 10 bc liked idea much like one character justin believe super smart one also cheap ways cover plot holes like trying cover volcano cheap masking tape pretty anyway see wait 150 theater video unless like pretty much every movie see guess youll like one\n",
      "* * * * * * * * * \n",
      "1764\n",
      "registered imdb comment movie got done sitting movie thing impressed somehow power stop itive seen pretty decent number action movies princess blade worst fights ever seen movie sword fighting involves mindlessly swinging swords back fourth hoping opponent isnt seen good many student films better action stronger plotsso futuristic action movie poor action virtually sign future movie doesnt even action shows developing relationship princess farmboyterrorist disturbed sister movie multiple plot lines none really pan worth anything part problem may watched dub quite bad entire cast mumbled lines hard follow going got general idea knowing exactly said would saved movie eyesif heard futuristic actionninja flick heard wrong thats thought heard lost 90 minutes life dont let happen steer well clear\n",
      "* * * * * * * * * \n",
      "1829\n",
      "make good movie either need excellent actors excellent director need least one two eye needle nonei dont even remember name director mustnt done much career like much donald sutherland absolutely cannot main actor movie falls short sutherland excellent movie appears 15 minutes would say instance sutherland excellent jfk oliver stone talked kevin costner bench park 10 minutes nonstop without even taking breath wonderful sutherland principal actor movie goodkate nelligan probably good tv series dvd awful terrible colors terrible light couldnt even appreciate scenery storm island lousy photography wasthis ken follett story good pity turned uninteresting movie\n",
      "* * * * * * * * * \n",
      "2165\n",
      "bad oneoh mythis one movies doesnt even one positive effect everything actors story stinks sky wonder low iq watch kind flick even enjoy something worth watching well lot nudity involved nothing particular think couldnt get worse realize naked ladies looked like forty years old cmon guys search actresses elderly home perhaps anyway leading actresses sexappeal knows show bad skinny old skip one2 10\n",
      "* * * * * * * * * \n",
      "2175\n",
      "film horrible bad acting bad writing bad music horrible incredibly misrepresentative roleplaying games key elements film poorly executed may god dont believe mercy souls miserable wretches conceived gave birth abomination\n",
      "* * * * * * * * * \n",
      "2203\n",
      "boring badly written italian exploitation flicklots nudity gore awful actingthe werewolf makeup thing would raise laughcomplete rubbisheven fans cheesy italian horrorplease avoid\n",
      "* * * * * * * * * \n",
      "2294\n",
      "perhaps worst attempt zombie film ever misfortune see terrible terrible terrible review found site obviously work either filmmaker filmmakers family friend filmmaker film suck let us count waysthe plot incoherent dialogue atrocious slam effectsgore understand low budget even one zombie obese cmon film set rhode island truck sport massachusetts plate continuity find somethe girl dancing soldier stands attention please dont put exgirlfriend buddys sister movie naked ugly movie filled ugly people business even mentioning romero cover next time decide make movie dont\n",
      "* * * * * * * * * \n",
      "2314\n",
      "dislike movie lot read puzos books least watched closely two first movies specially first one going agree mecompared corleones saga presented puzos novel script film sometimes even ridiculous characters relationships among distorted story ends reaching nowhere although appears go direction movieit understandable different times expected corleones saga 90s would gonna find things way hand dont know copy dialogues movies contexts didnt fit sounds like poorly made sequels try copy original films qualitieswhat never understandable fact mario puzo coppola al pacino joined together make man directed pieces like apocalypse godfather forgiven almost anything cinema dies al pacino actor mario puzo shouldnt written come damaged previous work shame friend puzos novel last 90s story mob great never tell plot godfather iii\n",
      "* * * * * * * * * \n",
      "2404\n",
      "movie shows clip live animal mutilation animal getting hacked machete getting skin ripped know horrible things happen world watching movies based fact watching actually happening screen live animal clips meant movies meant show people belong certain organizations help horrible things humans speciesthis banned destroyed also contacted netflix resources collaborate getting movie marketthis movie removed public person made movie needs psychological help\n",
      "* * * * * * * * * \n",
      "2427\n",
      "american film makers decided make film think japanese characters badly represented actors even japanese set cheap unreal definitely doesnt represent kyoto early 20ties 30ties ever read book understand script writers didnt add extra value differentiate movie script worse even changed original plot line goofs rob marshall using two main characters two well known chinese actors joined crouching tiger hidden dragon marshall probably saw one chinese movie tho represent japanese culture seeing two actors together even makes movies ridiculous quentine tarantinos last scene kill bill 1 ten times japanese made movie\n",
      "* * * * * * * * * \n",
      "2455\n",
      "words cant describe utterly stupid story therefore bad movie basinger del toro thinking theres mall parking space totally full basingers character goes buy cup tea packaging paperwhen comes whole place empty nobody hears two gunshots fired nearby even though lives drives away baddies goes remote godforsaken place possible instead nearest police station least crowded place come wont even go infamous red toolbox since people done let alone kills moronic thugs one onethis stupid without least bit logic warn watching total waste time honestly\n",
      "* * * * * * * * * \n",
      "2506\n",
      "lame cliched superhero action movie drivel high hopes movie genre hk buddy cop actioneers one dont despise rarely see storyline trite ludicrous one would forgivable always kinds movies action compensates unfortunately action carry trademark surreality top nature hk action involving obscenely gory fact often completely incoherent perhaps due reediting american release show signs many places patchwork disappointed\n",
      "* * * * * * * * * \n",
      "2557\n",
      "movie seems start middle introduces peripheral players significant presents main characters without substance paperthin andor impenetrable backstories almost nobody credible discernible motivation actions film plot rambles ultimately goes nowhere dialogue clunky trite director little concept get best actors almost feels like theres first half movie never got madewere told mysterious pyramid appeared new york city central park inexplicably become arctic wasteland yet none seems caused much stir amongst general population minimal concern governmentwere presented evil corporation eugenics thats really convenient conceit populate universe couple powertripping minions whole eugenicsisbad doubleentendre heavyhanded never really pans supposed care central characters never learn enough know much world underdeveloped completely undeveloped comes 1hour 40minute fatalistic rationalization rapeon groundbreaking digitally animated world created say time film made several directors thing seamless believable resultsafter spending time watch film burning question left mind\n",
      "* * * * * * * * * \n",
      "3067\n",
      "awful panandscan videotape boom want see widescreen glory voted 1 hope together pull movie pits cinematic dross hope someone see opportunity big money releasing boom directors cut extended version movie one howling favorites look people involved director actors cameraman say yep guess fool people lot time producers considering dvd release boom note everywhere shown sellout crowds theaters hasnt frostbite falls yet\n",
      "* * * * * * * * * \n",
      "3110\n",
      "black guy fights supposedly wins yeah 110 obviously fictionso presented damm nice title real nice tag line even nice plot line thats thats ends move fiction thatmichael jai white black guy dont get confused name portrays black guy umm thats nameits hard find decent help must hired black guys friends help cause low budget low ineptness movie cameras shadow trailing first scenes yeah obvious idiot moment average guy like yeah10 lines review submitted paid see movie got screwed\n",
      "* * * * * * * * * \n",
      "3199\n",
      "unless already familiar pop stars star film save time stop reading review reached end next sentenceforget ever stumbled upon film go watch something elsebut insist reading consider lame vehicle japanese teen idol prettyboys featuring nonsensical convoluted plot drags insufferable amount time ready screamnothing film makes sense endless series people expressing various emotions joy anger happiness tragedy good reason obviously see something incredibly dramatic happening dont give crap cause theres backstoryby time film sick tired stupid lanky girly stars faces youll revolted spent time watching smile sneer cry look mysterious serious pointless expression slap facesthat moron would ever go far refer piece insipid trash soul actors prove beyond shadow doubt trailer countless adoring comments site tell converted mindless minions like film majority teenage girls pathological adoration anything androgynous freud would field dayunless one mindless fans stay hell away abomination\n",
      "* * * * * * * * * \n",
      "3212\n",
      "plot doesnt offer new excitements even starts cube time enhancements cube machinery except extra exit guarded ingenious characters also well elaborated first episode became flat soap opera somebody makes normal exit person would asked questions like believe god really creative original especially opinion doesnt fit mystery cube traps really nothing much else say\n",
      "* * * * * * * * * \n",
      "3276\n",
      "kids hiking mountains one goes large tunnel discovers old mummified gladiator puts gladiators helmet spends rest movie killing hikersthis thing utterly senseless maddening heres short list things dont make sense1 guy girl tent think hear something outside guy goes investigate finds another hiker outside hears girlfriend scream head back tent arriving next morning 50 feet away2 two dunderheads hear another girl scream 100 feet away dont investigate afraid theyll get lost3 another guy girl walking around 10th scene together girl informs guy due circumstances protocol longer requires address professor mean first thats really stupid thing say secondly never called professor first nine scenes together4 wounded girl attacks demonicus stops telling part gladiator training taught wound without killing um yeah kinda noticed wounded dead walking around thanks tidbit information5 one girl tied demonicus lair someone attempts free instead instructs person go get help um look idiot set free would take 5 seconds would need get helpand goes whole middle part movie spent two idiots getting lost woods fight pitch tent ignore screams friends wander around damned boring pointless turned dvd halfway none characters sympathetic especially ones get majority screen time demonicus made laugh loud every time saw looks like kid halloween costume scrunching face look evil runs say scampers around like gay special effects comedic acting part awful nothing makes senseoverall maybe concept could produced enjoyably campy film put time effort getting rid ludicrous dialogue creating characters actual likable personalities sort logical flow action maybe even making demonicus female character sexy gladiator outfit instead get senseless pile nonsense bore death\n",
      "* * * * * * * * * \n",
      "3396\n",
      "evidently offer actor enough money anything sure much john rysdaves got money made go fans apology even associated rotten movie special effects worse effects 1950s b movies acting rest cast even worse bad acting child gave second best performance opinion english terribly accented think one could really even speak english memorized words sound instead memorizing script trying make character lifelike real\n",
      "* * * * * * * * * \n",
      "3415\n",
      "well maybe worst movie ever least worst movie ever seen tried 666 child satan anti christ kinda movies 1000 times none good maybe worst think going better movie use fake blood movie doesnt idea actors filming terrible cant even make 10 line minium movie really nothing tell horrible make movies like right mind cant understand cant hollywood movie dont go watch use money wisely\n",
      "* * * * * * * * * \n",
      "3453\n",
      "majority stephen kings short stories little gems original ideas dont take long time develop basically lean meanhe sets quickly scarce number pages read em finished know begun like equivalent carton mcdonalds friesthey taste really good know theres much nutritional value re literary standpoint dont say much universal human condition still gonna scarf em dont pig go extrasupersized portion fill much grease much grease metaphor prose kings novels find reading one saying come onenough popcultural observations clever yankee asidesget story already compiled four books short story collections read allfrom nightshift latest everythings eventual display efficiency gettingtothepoint sometimes sorely lacking tomesized novelsbut short stories never overstay welcomewhich brings us tv adaptations nightmares dreamscapeshow hell series producers get greenlight turn stories usually averaged 15 pages 50 minute episodes ill tell howtwo wordsstephen king stories name probably didnt come cheap one hour shows enable advertising half hour ones sowhat anthology mostly 23 24 minute episodes turned double length double commercial timekachingim going waste time synopsizing plots storiesthis review supposes already read stories andor seen show follows merely gut reactions tnt presented four installments far heres ten cent assessment first worst battleground classic means hey could anyone argue keeping william hurt opening trap filming episode without single line dialog tongueincheek reference destruction killer zuni doll trilogy terror proved producers writer teleplay richard mathesons sonthe writer tot knew mission one make action deadly yet time fun took longer get hurts apartment think fulfilled objective 810umneys last case liked one primarily william h macys performance think writerumney appeared story sooner private eyeumney beginning actual reality story anyone familiar king short story probably half audience knew chandleresque setup due get interrupted writers reality lets get already cutout cute clever hardboiled repartee private dick banter already writerumneys family tragedy began reveal though thought show developed emotional connection made viewer least feel sympathy reallife macys attempt escape sorrows usurping fictional creations exciting life 610 end whole mess uh title felt episode twenty minutes ready scream tvok get already younger brother mega mensa genius prodigy extraordinaire know ron livingston talking camera time running menot fast enough thought young whiz kid going discover something really bad humanitywe know already built airplane almost died couldnt steer path tree blew chemistry lab teaching chemistry think end world could prevented kid parental supervision much time wasted establishing ubergenius henry thomas finally get resolution discoverythe end world unintended idiocyhow much get see world endinga cheap video shot reporter starting forget reporting brief radio broadcasts announcing day judgement hand oh brothers parents drooling singing old songs point story really end whole mess world wanna see mess goes flames crashes burns talk ending whimper indeed 210 crouch end episode ticked totally could lived takingforever exposition happy couple arriving hotel playing slapandtickle lunch getting taxi half episode right finally crossedover crouch end episode delivered chills failed miserabley wasnt scary practically laughable ooh looka kittywait turnsoh god look scary eye uhhuh could gone long way towards filming crouch end sequence night instead daylight things might unintentionally find funny become scarier see night shadows guess budget wasnt high enough shoot night fake london sets slapped together one page scary story tourists wandering places shouldnt terrible things might lurk around corner terror adaptation directing actingthose truly horrifying 110 overall series average far 410\n",
      "* * * * * * * * * \n",
      "3473\n",
      "see turkey listed tv guide avoid like plaguea steaming great pile fetid dingoes kidneys doesnt begin describe bad movie one funny scene memory eraser scene even rates 001 laughometer 1000 whoever wrote turkey banned writing another movie entire lives\n",
      "* * * * * * * * * \n",
      "3514\n",
      "due budget cuts ethel janowski played priscilla alden released mental institution even though killed six people delivered hope bartholomew halfway house immediately relapses criminally insane ways kills anyone gets foodholy moly movie suck know trouble open credits start credits first film apparently filmed tv screen nick millard pseudonym nick phillips decided return world crazy fat ethel ten years later budget probably covered cost blank tape video camera rental weekend lets say millards unique style doesnt translate well video seriously made home movies production value millard tries pull silent night deadly night 2 padding half running time footage first film looks like taken worn vhs copy alden good ethel film inept start feel sorry starring garbage mean least first film tried music weaker effects possible shaky camera work horrible audio editing looks like done two vcrs hooked avoid costs\n",
      "* * * * * * * * * \n",
      "3661\n",
      "avoid usa version added us footage worst dubbing ever heard probably done new york amateurs dubbing bad sounds like mystery science theater 3000 think black guy bronx chibas voice couldnt watch entire film bad instead americanized version watch chibas greats like streetfighter karate warriors\n",
      "* * * * * * * * * \n"
     ]
    },
    {
     "name": "stdout",
     "output_type": "stream",
     "text": [
      "3733\n",
      "show comes interesting locations fast travel channel billed reality actuality pure prime time soap opera tries use exotic locales facade bring people phony contest proceeds hook viewers contestants soap opera styleit also borrows early cbs game show pioneer beat clock inventing situations contestants try overcome rewards winner money spice little interaction characters even better game format slow motion versus beat clock real accomplishment series escape reality show elements several types successful past programs reality television hardly hooked contestants locale contest cup tea entire series say drivel dripping gravy another show hiding behind reality label trend started 2000it slick well produced might last yet reruns gilligans island green acres beverly hillbillies brady bunch doesnt employ professional actors intelligence level\n",
      "* * * * * * * * * \n",
      "3860\n",
      "often feel compelled give negative criticism film often feel maxim dont anything good say dont say would apt advice many naysayers listen everyday nitpick things like reader though feel compelled point lone exception christopher walken returning role gabriel movie pathetically horrid say warn advance even fan walkens deadpan delivery style liked original prophecy sorely dissapointed buy return rent make sure ninetynine centswhats wrong movie full list would take long read would bore tears short summary would following rather crystalline clear picture relationship angels mortals first film ripped shreds gabriel turned rather morbid right hand god role wickedly funny first little thug heaven since walken good playing heavies remember frank white king new york still enjoyable supporting cast unmitigated unconvincing mess mortals angels alike couldnt buy clue 50 cents figure plot smarter man one gets feeling wander aimlessly scene scene move film along walkens next big line end movie actually wishing blow horn make walls jericho fall people made unnatural disasterbottom line insult intelligence made sequel film first place original told right story answered questions left alone ones meant ponder afterwards compelling reasons follow characters first priest lost faith little girl kept big secret teacher protected children even lucifer interesting first film characters sequel put together feel sorry anybody sees film first theyll probably never want watch original thats real tragedy\n",
      "* * * * * * * * * \n",
      "3957\n",
      "film classic pointlessly remade predictably disastrous results title false everything film period persuasively rendered leads seem way young vapid even criminals arthur penns film style humor point view made talented people even 1967 version didnt exist would still unnecessary film 1967 version strayed facts presented glamorized version bonnie clyde exciting innovative 1967 outstanding performances allowed care 1992 remake seems culled original film rather truth known actors version callow unappealing least bit interesting means skip one hope 2010 version better could possibly worse\n",
      "* * * * * * * * * \n",
      "4158\n",
      "writer came pretty decent idea story many flaws execution plot took much away film nearly render unwatchable basic elements character development glossed best inconsistencies also reared ugly heads massive mansion middle rural irish countryside characters showing gardens stormy night convenient times might add wasnt bad rated 4 based mostly story talent alison elliott\n",
      "* * * * * * * * * \n",
      "4178\n",
      "story norman maclean masterwork redfords film mediocrity adds banal scenes maclean brothers going falls doubledating seedy bar even hinted story cipher brad pitt trying play charismatic paul maclean genius outdoors proves either risible depressing depending original story meant fly casting scenes beautiful also tom skerritt father craig sheffer norman strong masculine men expected none women make impression film regrettable maclean loved women story made clear even poetic\n",
      "* * * * * * * * * \n",
      "4196\n",
      "waldemar daninsky paul naschy travels tibet bitten yeti causes become werewolf accidentally killed attacks cheating wife lover later revived female scientist dr ilona ermann uses mind control experiments daninsky later discovers underground asylum populated bizarre subjects doctors failed experimentsupon hearing naschys death colleague jon kitley rummaged collection suitable film watch scramble found one three copies fury wolfman film questionable video quality sound dubbed mediocre fashion cinematography sort slapstick style times american versions two love scenes removed quite frankly without remastered uncut copy wasnt really getting proper movie glorythis film claims fourth long series werewolf count waldemar daninsky suspect true wouldnt know film plot confusing times theres really indication sequel read plot summaries wikipedia compare printed box youll see alone confusionperhaps films shortcomings forgiven understand production hell went floating around years released 1973 due problems involved finding distributor naschy said autobiography director zabalza incompetent alcoholic hated working really arent light accusations idea zabalza say behalfchances sooner later youll come across lowgrade version fury wolfman appears variety threepacks box sets might accidentally acquire even know really needs happen american uncut version decent sound video mix love scenes thrown back far know exist let us honor paul naschys legacy get films wider audience level quality deserves\n",
      "* * * * * * * * * \n",
      "4222\n",
      "amazed many comments show real maybe part universe veronica mars anything top big waythe acting chewing scenery enthusiasm plots holes could drive truck thats call realit earnest desire relevant shows cutoff reality rob thomas staff areoverall found best snoozefest worst little annoying kristen bell looks like could good actress hard tell overthetop style whole show\n",
      "* * * * * * * * * \n",
      "4263\n",
      "following release cube 2 hypercube 2003 playing alleged success original cube 1998 director ernie barbarash takes liberty bringing us third installment trilogy prequel cube zerodeep bowels giant faceless institution time place unknown two lowranking operators wynn zachary bennett dodd david huband sit observe monitors behavior people placed giant network cubic chambers rigged death traps told people observing convicted felons chose horrific deadly ordeal lethal injection observers problem jobs wynn mathematical genius discovers one prisoners woman named cassandra stephanie moore never agreed put inside cube suddenly realized perhaps jobs seem may part something deeply sick twistedfor people seen enjoyed original cube prequel probably liking story potential simply first cube film never needed expanded standing alone neat little psychological thriller interesting concepts certainty message also nicely selfcontained problem cube zero destroys mystique original attempting answer questions questions really resulting making mess never needed fixingwhat new film offer questions psychological nature authoritarianism banality evil certainly good questions raised probably done merits rather continuation film aspirationshaving said traits film acting direction writing awful bleak dark look film akin film noir matrix dark city certainly managed recapture claustrophobic feeling first cube unfortunately barbarash enough positive qualities save\n",
      "* * * * * * * * * \n",
      "4332\n",
      "yet decided whether replace anaconda worst film ever seeneven ignore dodgy accents low production values appalling camera work film absolutely nothing going went see read book wanted see would work complicated plot 2 hour filmthe simple answer didnt characters appear little explanation proceed play valuable part narrative even main characters act without reason time film reaches climax dont care happens themi accept books occasionally need rewritten fit films perhaps unfair judge film book adapted friends came cinema spend journey home explaining supposed happenedthey even change true meaning books title rancid aluminium squeezing yet another piece pointless voice allow film cool titlea real mess film start finish\n",
      "* * * * * * * * * \n",
      "4457\n",
      "wow could good moviestarts brittany daniels tied thinking cool going get flash back nothing movie starts anew kid filming movie probably would better wasnt acting mean acting mostly horrible although lines poor actors deal guess best couldstill really ruin movie twins ones seem acting skills movie drags long supposed shocking conclusion seen worse low budget movies considering hype 8 films die disappointed way reviewers say gore stuff see movie well 4 eight far one good\n",
      "* * * * * * * * * \n",
      "4553\n",
      "couldnt recommend christmas movie worthless piece drivel trust double negatives required bad film trouble opening credits revealed screenwriter person songwriter musical numbers far long none good thank much decent melody lyrics stupid beyond words would gladly bear chains worn scrooge films bizarre hell sequence sit insult movie musicals againthe entertaining part movie completely unintentional way involves alec guinness jacob marley dressed silly powder white costume guinness foppishly prances scenes either attempt make appear though floating like ghost show utter disdain dreadful movie albert finney meanwhile blends best alistar sim charles laughton create hopelessly loathsome character quasimodoscrooge finneys scrooge hideous person impossible believe transformationsteer clear abomination filmmaking costs\n",
      "* * * * * * * * * \n",
      "4559\n",
      "movie sucks big time reminded movie resurrection christopher lambert also found extremely boring semana santa every way even poorer movieonly fine one cast something movie alida valli alida one grand old ladies european movie history loved maniacal looks suspiria inferno dario argento spend time dealing movie say another good thing movieuse want fall asleep quickly\n",
      "* * * * * * * * * \n",
      "4792\n",
      "sucks thats got say sorry excuse film sucks sucks sucks mean hell thinking idiots involved never allowed make another films acting bad even failed entertain bad level attempt lesbian scene sad felt bad ladies involved movie sucks sucks sucksi heard rumors sequelgodhelpusall\n",
      "* * * * * * * * * \n",
      "4807\n",
      "paranoiadriven potboiler reporter hero battles hindersome authorities duplicitous coworkers renegade ufo debunkers silent skulking aliens though capable mind control zapping objects afar takes three operate control panel two dozen buttons script clomps event eventleaving puzzlers aplenty aliens blind dog fry soldiers radiation patrolling empty landing site space dudes worth moon cheese abduct ugly photographer first instead model inquiring minds want know writerdirector mario gariazzo apparently researched subject skimming stack ufothemed tabloids took sunn classics double feature closing screen crawl boasts based actual eventsjust like plan 9 may feel burned abrupt finale still appeal conspiracy cranks\n",
      "* * * * * * * * * \n",
      "4855\n",
      "budget decent actors knew things important dont waste time piece junk effects crap acting crap thing could made even tolerable little cheap ta gets squandered first 20 minutesthe even remotely redeeming quality movie awkward profanity like found 7 people planet never cursed hats offif want see dude bad suit go back look old prom photos way bigfoot flick good big budget actors didnt come frogballs community theater\n",
      "* * * * * * * * * \n",
      "4880\n",
      "worst piece crap seen recently nothing good movie plot plain stupid dialogs dont make sense humorous scenes never heard anything real humor actors dont play worse dont even try script somewhat league ed wood uwe boll one good thing flick fights well choreographed one would expect hong kong guys reason watch prince sun although believe fights supposed fill empty space screenwriter didnt bother thinking storyline however weak absurd plot may prevent watching end avoid unless fan dragon lady cynthia rothrock\n",
      "* * * * * * * * * \n",
      "4930\n",
      "worst movie history cinema dont know trying funny sad poignant droll end result unwatchable everyone key grip robin williams back best boy ashamed part film\n",
      "* * * * * * * * * \n",
      "4933\n",
      "saddens rate movie lot favorite actors locations genres ie douglas sutherland washington dc political thriller sentinel really hits low like great idea front signed right cast great city shots took holiday letting remaining crew improvise rest wish could blame yet another bland performance basinger feel one worst actors hollywood still steaming decade later one definitely bad actor film win acting oscar la confidential wasnt problem sutherland love jack bauer 24 plays jack miss old time kill good men days douglas certainly took hiatus acting phoned one plot someone secret service traitor wants president dead douglas haphazardly framed someone believe actually spoiler quickly came subplot halfway know someones want president dead revealed sequel many plot holes many doors opened never closed predictable sentinel see one movie year may know mole anyone whos familiar types movies even seen one law order episode youll know first frames terrible really cinematography good despite sutherland playing jack still got\n",
      "* * * * * * * * * \n",
      "4973\n",
      "honey shrunk kids franchise huge deal mention famous loved honey shrunk kids little original story exciting plot sets amazing cast seemed like enjoyed others company honey blew kid pretty stupid think wanted go back story everyone lovedbasically adam little grown moms going vacation leave husbands children waynes favorite item threatened garbage wants shrink keep brother get way wives come back forgetting give meds son get caught machine well leaving kids house alonethe plot silly like said family film think might get kick original honey shrunk kids best think everyone could agree third one wasnt bad would recommend one least honey blew kid movie least little fun410\n",
      "* * * * * * * * * \n",
      "5032\n",
      "1973 tv remake billy wilder classic inferior original surprisefirst good things lee j cobb makes terrific barton keyes good edward g robinson course reason watch remakes improvement original cuts role lola dietrichson stepdaughter femme fatale phyllis dietrichsonand thats good thingsthe bad things many director records everything indifferent manner watched film sound muted hardly get impression anything especially interesting happening modern bad taste film must color instead black white 1970s bad taste sets distractingly ugly walter neffs expensive apartment particular hideousthe modern setting hurts lot small ways train trips bit unusual 70s 40s mr dietrichsons decision take train seems contrivance men stopped wearing hats prevents walter covering brown hair posing whitehaired mr dietrichson women mourning stopped wearing veils robs samantha eggar prop barbara stanwyck made splendid use key scene oddly lola still line reveals stepmother trying black hat veil need themstephen bochco keeps much billy wilderraymond chandler script makes lot tiny inexplicable changes dialogue leave script slightly flabby lean muscular outrageously famous motorcyclecop banter gone look closely youll see looks like postproduction cut lines bochco may blamerichard crenna passable walter neff might made version tolerable really splendid phyllis dietrichson instead get samantha eggar comes like standardissue villainess barnaby jones blame eggar director barely seems interested whats happening front camera could barbara stanwyck come well\n",
      "* * * * * * * * * \n",
      "5050\n",
      "dont know problem movie able capture way movies done past believe one miss make use fashionable conventions available 40s make film dont anything better advise watch movie read book go walk\n",
      "* * * * * * * * * \n",
      "5132\n",
      "barbara streisand directs stars jewish storyto chance obtaining education babs enthusiastically disguises boy isnt difficult thing since already looks like boy anyway new school meets many male classmates trouble believing guydont miss best many moments unintentional humor babs male friend thinks man pins ground sits top looks affectionately eyes snickermediocre film splashy story nothing particularly interesting\n",
      "* * * * * * * * * \n",
      "5169\n",
      "actually saw china obrien ii ever saw original china obrien say first incarnation actually worse worse funnier funnier better bad movie fan like great material however looking sort meaningful plot acting ability moviemaking skill best avoided best part filmed fighting sequences stuttering fastforward hilariously bad see laugh see mindless entertainment whatever see free tv\n",
      "* * * * * * * * * \n",
      "5210\n",
      "seed torture pornno doubt strangely uwe boll written produced directed polished film made recent memoryevery time watch boll film feel pages script must gone missing simply huge gaps story dialogue course nothing makes much sense either films somewhat surreal respectspoilers six cops go arrest seed split go separate ways get darkened residence unlike real cops would enter clear house pairs threes dont cops ever use radios bodies decay quickly process would normally take many months know timelapse photographybut seed would never able stay schedule killing people always waited around previous victim decay point shown come seed gets wear biboveralls mask waiting death row instead typical prison uniforms seed enter maximum security prison stroll around cell block walk without stopped even noticed nearly 80 people according newspaper articles shown movie murdered one investigator working case investigator suddenly decide go look seed seeds house originally arrested murdered victims didnt think sooner police detective go solo without backup without even letting dispatch know headedthis particularly frustrating boll obviously goes far way make sure understand electric chair fails work properly spends several screen minutes setting could spent making aspects film least bit logicalend spoilers short film sort serves framework assorted scenes perhaps boll would think visions brutal death bludgeoning gunshots head execution electrocution skinning live animals raised pelts opening scenes animals skinned indeed unnecessary disturbing understand purpose context film centerpiece undoubtedly bludgeoning death middleaged woman seed using hatchet obvious much time spent vaguely reminds classic scene reservoir dogs though without steely dan soundtrackis good movie worth seeing dedicated fan torture porn genre absolutely determined see sample torture porn said start review even though movie pretty disgusting sickening points truly much competent bolls movies perhaps continue improve filmmaker hope progresses beyond torture porn continues vein postal\n",
      "* * * * * * * * * \n",
      "5231\n",
      "possible way enjoy flick bang head wall allow internal hemorrhaging brain let bunch brain cells die officially mentally retarded perhaps might enjoy filmthe saving grace story raju stephanie govinda excellent role cab driver brit girl perhaps would created whole movie escapades india eventually fall love would made much enjoyable filmthe reason gave 3 rating govida ability actor comes comedyjuhi chawla anil kapoor wasted needlessly plus scene heathrow reunion much digest international traveler post 911 world anil kapoor would got shot much even reached sky bridge profess true love point movie defy logic gravity physics throw egg face general audiencewatch peril least know scarred life\n",
      "* * * * * * * * * \n",
      "5266\n",
      "quite unimpressive twists pretty predictable seen movies within last ten years somewhat interesting parts wherein someone utilizes context clues make decision lack much punch since secret already shown clues explainedspoilers sortathe acting decent enough story simply isnt interesting whole still awake premise becomes nullified astral projection stuffnot kidding surgery scene initially tense bit discomforting becomes utterly banalnot horrible memorable terrence howards least interesting role date far seen kind boring overall\n",
      "* * * * * * * * * \n",
      "5353\n",
      "soulless milking cash cow franchise generic superhero flick cgi showcase gavin hoods series improbable events combinatoric iteration mutant fight scenes strung together inane exposition justifying formationdissolution arbitrary alliances expecting shakespeare cliché per minute meter charts primal scream looking skyward kneeling murdered girlfriend renegade military commander predictable double crosses revenge sought slain lover erased memories evil character discovering morality last minute misguided failures execute nemeses defeating melee lover really dead lover actually acting spy heros archnemesis girlfriendspy actually falls protagonist good people work antagonist order save kidnapped family members evil mastermind fails honor promises reluctant employees kindly old couple care weary hero get murdered troubles certain deaths averted third parties arrive scene coup de grace hero reluctantly joining secret government agency abandonment elite squad protest slaughter innocents scientists unable control indestructible killing machine creation outdated lovable government secret weapon kills better designed heartless successor hero strolls away wreck casually lights trail gasoline behind everyone given flatlined heart monitor picks pulse evil mastermind explains plans hero longer sees threat hero refuses kill defeated foe better transparent comic relief character makes hilarious understatements offbeat comments cheerful psychopath revels random murderous rampages nigh indestructible goliaths hurl one another series walls physical traumas would kill mere mortal man dispatches dozens gun wielding enemies nothing skillful swordplay common sense laws physics biology chemistry temporarily abandoned antagonist using loved ones murder justification misguided crusadei could go exhausting age twelve living moms basement theres probably nothing depressingly enough far par superhero movies discount written cant get enough genre\n",
      "* * * * * * * * * \n",
      "5411\n",
      "love frequently misnomered masters horror series horror fans live constant lack nourishment projects like similar greenlight project gave us feast like lump breeding grounds wonderful thought bubbles minds directors horror bent develop bring maturation food love dine horrorthis one began kernel reallykoolidea ran right edge world going thisi dont know spoil spoiled spoiler ahead sudden light drifting across night sky earlier long haired luminescent aliens huh huh brain drilling males yeah get well worst curse storytelling rousing promising set without rewarding denouementcue storytellers build payoff exceeds build way around storytelling math 101end spoilers big oops\n",
      "* * * * * * * * * \n",
      "5427\n",
      "film limps self indulgent moment self indulgent moment promising develop something worth hanging doesnt flat self conscious unimaginative tediousa series set images backdrops dont make film make calendar kind pitiful socialist pseudo drama documentary true really happened fails entertain fails convince doesnt even function social history clichés comingled bad acting make film difficult finish amusement factor wearing fairly quickly characters one dimensional never developing extent one feels directors ego largest character film\n",
      "* * * * * * * * * \n",
      "5448\n",
      "remade today film would creepy disturbing dark comedy stalking obsession web lies manipulations given 1948 gloss arenttheycute harmlessness drake plays stalker unabashed user people alternately pathetic manipulative grant plays stalking victim alternately angry obliviousvastly disturbing havent able look classic romances suspension disbelief since\n",
      "* * * * * * * * * \n",
      "5509\n",
      "sad sight tv stalwarts make running clock careers stumbling little rusting hulk ship boat might appropriate whole production feels cheap shabby helped big name star barely capable spitting lines given credible fashionat time supporting cast rise material clearly watching clock bang scenes get pay cheque go home try forget itits particularly badly scripted filmed real clangers utterly anodyne shot limited number cramped sets small cast extras pacing little bizarre embarrassingly tentative romantic subplot begun main action starts makes feel irrelevantmaiden voyage scores couple points competently scored fun game spot kiwi bit parters cast graduates shortland street xena warrior princess saddest thing production film probably constitutes big break\n",
      "* * * * * * * * * \n",
      "5557\n",
      "may bit spoilerish side would like start saying watch entire movie could evident first hour going incredibly disappointed course problem taking many believe amazing book turning disney madefortv moviea wrinkle time made amazing movie long time ago got great storyline could hook children adults plus got built quality sequels disneyfying way go problem movie things changed turn visual story dumbed great book complicated emotional story kids reason make charles wallace purely psychic easiest way explaining reason write fight three mrs ws added tension enough tension story without reason remove megs glasses deprived us couldve sweet scene calvin meg happens booki could nitpick days little things also think larger things like art direction take instance way made camazotz look strangely darkened skies creepiness comes across book camazotz could earth looks like earth people look like humans skies blue grass green children playing something little bit directors chose make camazotz complete instead taking lesson book applying overall direction movie lesson course camazotz could well earth forget love wouldve much creepier beautiful afternoon walking street kids bouncing balls rhythmi unfortunately watch end maybe someone tell disney messed end welloverall artistic disappointment\n",
      "* * * * * * * * * \n",
      "5753\n",
      "60s occasionally entertaining film entertainment laughing film extremely uneven includes many annoying elements take instance switch black white color done right could fairly effective done poorly turned nuisance detracted already bad experience much film odd feel acting wasnt extremely bad made tv flick downright embarrassing times many events coherent ending confusing family somehow end many big events 1960s ending much sappy tastes hollywoodized everything turn right end would advise waste time 60s something else time glad watched class time think safely say best part movie inclusion bob dylans music rambling thoughts flick hope take advice stay away\n",
      "* * * * * * * * * \n",
      "5879\n",
      "one worst films ever funny poor tv style cinematography bad acting sad see many famous old actors barely able walk let alone act lead female nancy young cant act terrible direction subpar bad tv movies occasional weak jokes fall flat even basic premise movie makes sense somehow supposed stop wedding happening theres logic behind actions slow pacing made wife stop watching suffered old men supposed acting like young horny comes pathetic instead funny even get money make\n",
      "* * * * * * * * * \n",
      "5968\n",
      "far providing caffeine kick expect film shares name energyboosting warm beverages coffy clunks never really rises ropey revenge tale indeed movie cup coffee itd rather weak watery littered undesirable dregs lacking lingering aftertaste sporadically hits spot otherwise isnt hot actiondrama hopes beplotwise coffy nurse takes law hands delivers hard justice drugpushing ladypimpin mobsuckers hooked younger sister depraved sick state sociopolitical commentary plight urban black youths america prominent coffy makes thoughtprovoking stuff coffy crusades political corruption white establishment racism profits acts parasite targeted afroamerican minorities sadly timely messages undermined films poor quality lack focus coffys ideas important wellaimedone plus points coffy presence blaxploitation icon pam grier grier goes role gusto makes appealing action heroine shotguns scum often spectacular acts vigilante violence deal house full hoods drive car right front door shame storyline wavers occasions wasting time squeezing much sexual exploitation possible low budget cant helped neither fact blaxploitation flick coffy lacks groove issues undermined lack quality consequently entertainment excitement also skewered moments dullness misdirectionthe total result workmanlike wooden get hip heroine hip movie shame coffy moments rightly regarded key film blaxploitation craze never ascends average lukewarm number\n",
      "* * * * * * * * * \n",
      "6116\n",
      "movie poor attempt make money using classical theme used love superman movies one made want shoot poor acting outrageous special effects plot equal zero summarize superman leaves earth scientists discovered pieces home planet space duh doesnt tell girlfriend anything leaving duh takes spaceship comes back think 5 years later look forward hooking girlfriend razing son son humble opinion least 7 years old lex luthor trying grow new continent order sell land please vote 1 10 movie allowed vote 0 anything else time dont go see movie even dont anything else stay home watch tv\n",
      "* * * * * * * * * \n",
      "6222\n",
      "buzz film always fabulous graphics make kevin bacon disappear sadly stopped continued make script disappear silly set finally every visible element film theres nothing else showgary thompson andrew marlowe listed writing credits film dont really think exist think bought script scriptsrus buy standard blank monster movie script fill blanks theres monster stalking us lets split actually lets split movie hit aliengiantbugmonsterinvisibleman crowbar dead yet burn hugerabbitsharkinvisibleman unsurvivable fire dead yet know standard stuff even minimum number elements specific invisible man movie ir glasses spraying something like paint handled badly sad lots possibilities fascinating movie psychological issues subject deterioration mind due process treating invisible subject many ideas touched usually less 2 seconds would far interesting desire save kevin bacon end would much better movie stunki would mention incredibly stupid elements ending movie dont want spoilers suffice say characters stupid dont think pulling plug machine rather\n",
      "* * * * * * * * * \n",
      "6241\n",
      "tend like characterdriven films also think hope davis turns consistently good work high hopes movie hopes soon dashedthe main flaw movie direction lot scenes daydream sequences movie makes frequent use denis leary character alter ego campbell scott character doesnt work would worked better play moviethere problems plot well important characters movie take journey end place different started didnt feel characters grew experiences portrayed moviefinally editing wasnt well done either big sag middle movie exceptionally boringexcept acting felt consistently strong movie failed almost every aspect cinema\n",
      "* * * * * * * * * \n",
      "6315\n",
      "bought movie bargain bin rogers video store 2 enjoy good b movie figured looked like good onethe movie quite cliche 1970s quite groovy unfortunately story line hard follow lot happens movie fact turned watching 45 minutes figured week later watch whole thing matter slow wasthe movie good spots wait wait waitfor themif b movies might warned movie slow much really happens mention much story line either\n",
      "* * * * * * * * * \n",
      "6336\n",
      "among us poor science fiction best mediocre acting bogs film plot holes numerous aliens somehow came earth meteor hiding among us 100 years need plastic surgeon make appear human alien form supposedly exoskeletons need plastic surgery see teeth fingernails heroines father disappeared project blue book closed supposedly f16 pilot want see alien invasion movie pick invasion body snatchers see done right\n",
      "* * * * * * * * * \n",
      "6445\n",
      "sorry guys already written opinion movie today first day looked reviews quite lot people agree whats scary people seem really like movie dont like write nasty reviews criticise peoples opinions think fair warn anybody may debating whether see movie good movie really like movies ill watch anything movie made onto incredibly short list movies watched happy leave halfway really incredibly tempted watch trailerthats mistake made entire movie essentially trailerafter surprises shockingly bad dialogue waste time love michael vartan alias would hate criticise think duty stop people wasting hours life movie like\n",
      "* * * * * * * * * \n",
      "6716\n",
      "one worst movies saw dunno reasons shoting suck crap dont waste time watching good actors extremely bad screenplay dialogues hope therell blanche 2 avoid movie means\n",
      "* * * * * * * * * \n",
      "6763\n",
      "one worst movies ever encountered want say criticisms heard turned unwarrantedas far pure filmmaking technique goes director competent held back limited budget vhs camera actual editing camera angles camera movements scene staging pretty professional seen many movies directing much worse least scenes flow way confusing clever shots also forest scenes contained decent atmosphere much vhs camera nice job far technicalities go far artistic merit none scene camera pans watch guy urinate woods 15 seconds sort epitomizes artistic style whole film pure trash total garbagethe gore decent film budget range obviously fake theres lots outlandishi saw american version intentionally campy dubbing good idea thing allowed make film unfortunately overdone especially towards endits really terrible film recommend camp value really hard find movie thats worse sort puts unique category\n",
      "* * * * * * * * * \n",
      "6821\n",
      "advertised channel seven australia untold story miniseries undoes first five minutes washing titular characters childhood adolescence less time good director use set single event cowardice selfcensorship fear offending anyone permeates series ultimately responsible failurerobert carlyle puts valiant performance hated man twentieth century hamstrung two things lack decent dialogue coach series leaves northernuk heritage shining blindingly physical appearance dialogue times truly abysmal apparently acknowledging fact hitler raised catholic family limits insulting millions vikings descendants carlyle spew ridiculous lines valhalla quite okay well heres clue writers person familiar viking mythology tell valhalla embodiment honour might battle two things nazis quickly eschewed favour rat cunning backstabbing wake realise reason hitler never excommunicated catholic church would require embarassing acknowledgement member never learn awful period worlds history teach usso managed insult vikings citizens scandinavian countries sham think series would stop doesnt stockard channings listing opening credits particularly eyebrowraising given voice heard face seen thirty seconds opening credits making patently transparent footage hitlers early days shot included typical nannystate fear offending someone also quite ironic films miniseries give far better insight hilters character feature alluntil learn stop sugarcoating truth realise citizenry germany mostly unopposed hitlers views necessarily ignorance never learn deal fact subversions democracy yes germany democracy prehitler occur anywhere doomed thats one thing miniseries got right portraying unfortunately element lost attempts make hitlers religious beliefs appear much valiant people inability scratch past surface part subject matter david lettermans show pegged ran short satirical segments series really might well made family sitcom star thats badly writtenall politically correct farce biopic worth points gave two robert carlyle definitely deserves better material thing works\n",
      "* * * * * * * * * \n",
      "6885\n",
      "yes movie make feel real horror realized paid spent 1 hour life trying watch bald guy give impression psycho junkie actor girl worst actress ever seen believe appreciate time avoid movie understand movie requires money created movies money justification stupid plot bad acting always supporting independent movies deserves support movies like makes bad name kind movies still traumatized trust nice cover anymore\n",
      "* * * * * * * * * \n"
     ]
    },
    {
     "name": "stdout",
     "output_type": "stream",
     "text": [
      "6902\n",
      "couldnt believe lame pointless basically nothing laugh movie hardly scenes get interested rest movie movie pulled huge stars wasted opinion think keanu reeves mustve taken acting lessons fews years movie stared matrix uma thurman looked simple humble luckily got movie low price certainly movie remember good reasons wont write anything story movie know meant famous hitchhiker across america huge thumb would give movie 2 10 watched movie wondering movie got 4010 know disappointing movie dont buy even see 5\n",
      "* * * * * * * * * \n",
      "7013\n",
      "always felt good film plot particular film missing one feel would effective plot made even worse fact seemed go forever anxious finally end however noticed 123 minutes long felt like four hours plot film also lacked notable conflict worst movie seen used say saw fast furious dont think review mine someone needs nothing action actually hate action films today film way side spectrum much really happens movie however scenery costumes nice\n",
      "* * * * * * * * * \n",
      "7173\n",
      "woman miriam hopkins virginia chases man joel mccrea kenneth father charles winninger bj woman wants get man invest deceased mothers money fathers business venture father notorious losing money hairbrained schemes little anyone know real evil schemers posing mans best friends order steal fortunethe production looks engaging story fails engage players dont play drunk well notable broderick crawfords first appearance gopher hunk running errands mr crawford gets pinned floor mr mccrea woman chases man 42837 john g blystone miriam hopkins joel mccrea charles winninger broderick crawford\n",
      "* * * * * * * * * \n",
      "7347\n",
      "heard film much stylistic films director guy ritchie lock stock two smoking barrels snatch directed problem possibly stylistic basically jake green jason statham released prison seven years solitaryand within two years gambles loads money ready seek revenge violenceprone casino owner got jake sent prison dorothy mr d macha ray liotta process doctors tell jake three days left live dying rare blood disease oh macha puts hit men loan sharks zach vincent pastore avi andré benjamin demanding jake pays cash back odd jobs film filled jake narrating flashbacks last three days coming big revelation zach avi macha well assume thats also starring terence maynard french paul andrew howard billy mark strong sorter francesca annis lily walker anjela lauren smith doreen elana binysh rachel sequences involving little bit animation repeating lines twice different perspectives changing speeds moments irritating point confusion boredom making silly crime drama pretty poor\n",
      "* * * * * * * * * \n",
      "7423\n",
      "ah yes vs series mvc2 pinnacle said get half crew fell asleep job unfortunately gameplay half dont get wrong fun get tired mashing buttons plot summary ahahahahahaaaaa plot beat guy end win eh plays self anyway\n",
      "* * * * * * * * * \n",
      "7449\n",
      "saw movie knowing anything hand plot terrible large gaps information missing movie didnt battle wits feel actors spewed mouthfuls nonsense times causing gnash teeth agony droned plot predictable except stomach sickening homo erotic scene end homophobic made physically sick stomach even ending predictable could tell detective jude law costume everything fake accent terrible dental work costume shop facial hair everything pointed disguise whole movie felt like wasted time life movie feel puppet show jude law michael caine puppets house window view show really boooring opinion\n",
      "* * * * * * * * * \n",
      "7530\n",
      "tried watch movie military camp overseas mission let tell youll watch anything circumstances piece sht thoughthe first five minutes set tone weak pornmovie quality acting weird outoftheblue plot twists unbelievable situations behavior gets worse movie one single saving grace yet bad way would make funny watch horrible seen quite many movies life one snobby knowall critics mean ill enjoy movies extent even bad one mansteer well clear one friend\n",
      "* * * * * * * * * \n",
      "7591\n",
      "word true films title got alarm bells ringing rang louder title card referred americas civil war war states circumlocution preferred diehard southerners jesse james thief slaveholder murderer described quiet gentle farm boyhow dishonest movie mention slavery far less documented fact jesse jamess poor widdered mother owned slaves war jesse brother frank actively fought preserve slavery according movie civil war soldiers really fighting decide whether missouri northern state southern state thats missouri candy mint breath mint black people entirely absent movie except two glimpses pair beggars one wears help poor sign thats implausibly typeset instead handwritten shots 19thcentury newspapers inaccurate 20thcentury type fontsthis film weird flashback structure theres impressive stunt riding fine work stunt horses one excellent montage savoured one line dialogue boys never taste beans movie gets facts straight agnes moorehead jesses mother conceals right arm scenes following raid agents pinkerton called remington jesse jamess reallife mother suffered injuries requiring amputation lower arm errors pardonable bushwhacking days real jesse james accidentally shot part left middle finger robert wagner title role stumpfinger seen photo jesse jamess real wife looked half glamorous hope lange looks movie jesse james might stayed home moretheres plenty revisionism male actors wear 1950s hairstyles many movies errors avoidable jesse jamess mentor william quantrill mentioned several times actors mispronounce name see jesse wife moving elaborate twostorey house soon die paying rent 18 actually jesse jamess last residence 1318 lafayette street st joseph missouri simple onestorey cottage renting 14 upper storey jesse james killed wife could come running upstairs hope lange actually kitchenone continuity error robert wagner stunt double impressive job taking slug jaw falling hands tied behind back gets rope binding wrists vanishedthe screenplay weird unnecessary juggling dates following northfield robbery attempt jesse says expects get home birthday actual northfield bank raid james gang 7 september 1876 two days jesse jamess birthday maybe meant next years birthday later see jesse wife moving st joseph home fine summer day jesse tells plans christmas eve arrives real life mr mrs jesse james moved house 24 december 1881 scene christmas eve errors entirely avoidablesome fictionalisations dont make sense according movie northfield bank raid failed one fictional henchman late cutting telegraph wires actually happened would indeed hampered james gangs getaway wouldnt affected robbery failed reasonsthere good performances jeffrey hunter frank james moorehead alan hale jnr cole younger stage actress marian seldes rare screen role disappointed robert wagner normally underrated actor elsewhere wagner proved impressive range convincingly portraying heroes villains morally ambiguous characters cant seem decide whether depict jesse james goodie baddie doesnt much bother john carradine phones performance brief role fictional jackleg preacher baptises jesse wife wedding fact jesse james baptised childhood uncle methodist minister perhaps second baptism toppingupjesse james robin hood doubt robin hood robin hood either thats another story one single documented instance jesse james ever sharing loot anyone beyond family holdups didnt even split swag rest gang movie jesse gets gunned right vows give bandit ways forever reality night death jesse james ford brothers stole horses jesse planned use next day robbery platte city bank preparation robberies jesse james stole horses local farmers poor folk inaccurate legends supposedly beneficiaries largesse cringed one scene fictional jesse james goldurn refined disapproves oil painting tastefully depicts nudesthe true much story jesse james wilfully dishonest thieving murderer likewise dishonest civil war impressive stunt work one good montage fine acting turns ill rate obscenely dishonest movie 2 points 10\n",
      "* * * * * * * * * \n",
      "7676\n",
      "pointless humourless drivelmeant comedy one laugh whole film gratuitous violence often guns kind warped mentality either make say good film 1 10\n",
      "* * * * * * * * * \n",
      "7792\n",
      "earlier today got argument many people complain modern films encountered curious statement character development newer movies isnt nearly good interesting used depending films question attributed number things sometimes generic special effects plotdriven hollywood garbage like war worlds case overthetop uninteresting attempts social commentary desperate struggle put art back cinema movies like dog days blamei normally high tolerance movies matter dull pointless find ranging good long ones like andrei rublev dogville ones considered painful sit la alpha dog wild wild west shut movie 45 minutes 30 minutes actually wasnt interested characters whatsoever found nothing substantial beyond thin veil unfocused pessimism attempt say something dregs society film easily falls selfindulgent trite exploitative sincere sense granted seen many disturbing movies subject many better films depressing pathetic people happiness gummo kids salo storytelling irreversible actually contain characters great emotional depth personality dog days none eighth graders distaste society choosing ignore true intelligence way people actually instead choosing dull awful hopelessly unoriginal attempt work art isnt characterization unknown clever observation dregs society boring nothing worth caring\n",
      "* * * * * * * * * \n",
      "7920\n",
      "okay let break guysits horrible roger kumble fancy job first cruel intentions bad job sorry movie stupid true may improved series ever aired lets realisticthis movie crock lot bad acting note shower scene kissing cousins kind line slipery wet say duhm movie effort ill give stupid even tried make funny giving house servants stupid accents actuallywasnt funny pathetic mention made everyone one look absolutely nothing like original cast made look different purpose something like watching really really really board doesnt happen occasionally like itokay thinking could possibly choose movie one great acting fabulous sarah michelle gellar movie gold sarah michelle gellar duh movie doesnt offense amy adams oh yeah since sebastain heart ugh\n",
      "* * * * * * * * * \n",
      "8128\n",
      "jean luc godards marxist polemic close unwatchable film likely see internationally respected filmmaker bits political theater mindnumbingly boring interminable interspersed making sympathy devil featuring rolling stones studiothe process songs development mick jagger playing demo acoustic guitar backing vocals recorded towards end fascinating worth renting film see bits stones almost half movie devoted thanks miracle chapter stops skip bizarre political skits watch stones put song togetherwhen laserdisc valiantly attempted watch dont see anyone could get finally gave chapterskipped way stones segments\n",
      "* * * * * * * * * \n",
      "8235\n",
      "reason seen 101 dalmatians nominations original song costume design oscars must admit less impressed film sequel cruella devilby way glen close pulls role well released hospital due good behaviour likes sort animals locks furs away point wait starts crises soon enough tries make best coat fashion world course fine dalmatian fur apart glen close found cast quite silly childs eye funny fair enough target market assume children 12 quite good entertainment children families didnt much\n",
      "* * * * * * * * * \n",
      "8259\n",
      "like movies creepy towns hotels houses states ala eagles hotel california etc possess people passing read almost stephen king novel instead like setting disappearance start reading kings desperation also check shining salems lot needful thingsthe crow motif desert family driving desperation escape avoid possession tired didnt make film desperation novel maybe approached king nixed must besusan dey harry hamlin look happy reunited worn well years still tv directtodvd caliber actors\n",
      "* * * * * * * * * \n",
      "8345\n",
      "jon pertwee said difficult funny easy silly well thats case pasty faces easy david baker director screenwriter cast seem impression comedy involves stealing scenes style superior britcoms like lock stock trainspotting using completely underdeveloped script jumping speaking fast voice loudly alan mccaffrey especially suffers type ott performance enough ruin film theres enough film ruin pasty faces terrible fronts especially scriptwise couldnt understand ended way seemed stop abrupt silly manner oh glaring errors need visa visit usa green card order work film would believe get plane start new life america without authorisation still get paid donate blood america people know america donate blood tell payment donations stopped several years ago buy type weapon gun shop far know gun laws america differ state state gun shops sell anti tank guns counter got erroneous view america unreal oh unfunny film maybe revenge braveheart hollywood view scots perhaps doesnt stop pasty faces crap comedy\n",
      "* * * * * * * * * \n",
      "8383\n",
      "nice scenery story itselfin selfproclaimed egyptologist lesleyanne visits egypt course egyptologist things unegyptologistic ways eg flash photography tombs handling old parchment etc uncovers black market turf war somehow span two days less becomes wars jumpsuitwearing epicenteris puzzling riddle sphinx ever posed simply awful visiting british scholar seems know absolutely nothing culture egypt even less antiquities fault writers certainly annoying get fault entirely rest cast including sir john gielgud frank langella seem downright confused proceedings short expect schaffner planet apes patton coworth watching laughably dated scene rails male scholars blaming failure academic bathed softest light hollywood could muster top spends next hour film shrieking harried running arms dude find wow talk performative ironynote wouldbe egyptologists take year two arabic grad school itll really help long run\n",
      "* * * * * * * * * \n",
      "8392\n",
      "see director trying missed mark main actor really good editing around moments takes camera work ie lighting exposer kind amateur could forgive direction fluent wasnt sound bit takes film well see could see director little bit better future total right dont expect dv movie nearly good 28 days later anything keep expectations low youll get least hour half oh yeah lead acting pretty bad ask movie snob take thats worth\n",
      "* * * * * * * * * \n",
      "8407\n",
      "many times see bad horror movies killer screamripoff mask plot bleed kinda original movie complete failure one thing dialogue poorly developed boring wastes much time trivial details acting bad et cetera want money back rental stinks worse skunk\n",
      "* * * * * * * * * \n",
      "8460\n",
      "one worst movies ever seen saw premiere sxsw extremely disappointed director knew little john lennon even said much premiere drama people laughing throughout cheesy film thats never good sign saving graces dominic monaghan jason leonard liviens roommatesbandmates funny rest movie took waaay seriously cheesy dropping beatles lyrics absurd soundtrack excellent however probably best part movie unless one crazy rabid dominic monaghan fans dont bother one\n",
      "* * * * * * * * * \n",
      "8514\n",
      "think made money make complete turd bomb like one need get movie industry wiped ass piece toilet paper made better script watch guy running tunnel used 30 feet tunnel never even changed location stupid hanging lighti think get thrill meeting director gem movie think pick fight start deficating loafersi think need puke\n",
      "* * * * * * * * * \n",
      "8541\n",
      "film amateurish could hardly believe seeing shot video film seen likes since early 70s late night networks showed movie week horror flicks shot invideo looks like bad soap opera paying compliment actors give best shot michael des barres okay given act like sex addict control cant say pleasant watchnastassja kinski therapist sits chair practically entire film little variation camera angles cant fault someone elses poor blocking totally unbelievable role little girl voice works consider nastassja kinski fan certainly ageless exotic outside range thisalexandra paul pathetically overwrought every line delivers three exclamation points someone must directed scream costs would michael des barres want sex raging shrewfinally rosanna arquette sweet maligned wife comes okay probably believable bunch saying muchthis worst film seen years\n",
      "* * * * * * * * * \n",
      "8597\n",
      "back burner years reported television reunion two beloved characters sitcom history started badly went straight downhill mary richards mary tyler moore best friend rhoda morgenstern valerie harper meet new york long estrangement catch others lives novel concept sad relate nothing worth talking let alone making movie happened either intervening years instead script contents throwing one hoary old plot device another older women workplace completely missing quirky charm sophistication made original show winner supporting cast instantly forgettable humor nonexistent chemistry moore harper together gone moore allegedly stalled project years waiting right script committing one considered right earth ones turned like age characters time inevitably marches almost complete lack imagination coupled blatant disregard elements made series work one time intended pilot obviously failed generate interest among potential sponsors matter among potential audiences quickly mercifully forgotten film travesty insult classic\n",
      "* * * * * * * * * \n",
      "8932\n",
      "letting class watch english bad idea films serious educational effect appears one didnt effect whatsoever class whenever teacher left conversations quickly started didnt hear words shakespeare tempest used look easy see acting nothing special everyone seems bored bits reading page without care world shakespeare always prefer expository dialogue action death couldnt understand word anyone saying costumes arent bad neither special effects class may loved film werent exactly taking pss either hard joke film devoid sort inspiration joy scenes ship start film werent badly done though rain looked bit unrealistic everything else done well good severed heads exploding masts death inspiration character ariel would taken lot seriously wearing clothes show another excuse joke film way appealing either sex women girls wont romance comedy enjoy abundance naked men lack action death put men boys tempest wasnt badly done felt like something producers make something wanted make general boredom lack inspiration show 310\n",
      "* * * * * * * * * \n",
      "9006\n",
      "dan duryea perfectly decent bmovie actor made lots lookalike noirs 1940s cant much one young man accused murdering unhappily married singer sentenced die wife decides solve case help dead womans husband dazzling opening shot flick quickly settles bmovie formula certainly looks good twist finish colorlessly handled cast including peter lorre broderick crawford bit stiff based cornell woolrich novel passable single viewing\n",
      "* * * * * * * * * \n",
      "9074\n",
      "movie ridiculous anyone saying acting great casting superb never seen even mediocre cinema acting obviously terrible first 5 characters meet lame feel like soaring comments must made people associated filmmakers impressed storyline wanted see beautiful oregon countryside decent cinematographybut casting anything inspired think movie also makes mockery generally noble suggestion something deep amerindian culture ignored perhaps lost reviving worthwhile possible places jokes wrong alltooobvious places makes think written state department something back drawing board even suggest film deserves place vicinity classics like harold maude absolutely retarded along line begging pretension joking rampant film\n",
      "* * * * * * * * * \n",
      "9253\n",
      "premise awaited sequel really good huge success remake expected lot sincerelythe sad truth movie really absurd inept situations dumb beyond reason acting truly awfulthis time arent likable characters violins unlike remake also gore abundant happens truly badthe violence minimal shame many arguments make think theres room heavy violence mean theres swat team hunting family cannibal mutants surely expect something different watched movies wanted money backanyways clear example rushed movies turn mess demonstrate poor quality aspectsa mess let fans remake like thats sequels never welcomed least movie isnt terrible 1985 sequel original\n",
      "* * * * * * * * * \n",
      "9307\n",
      "turn 700 club awhile agree statements made one many believers considered liberal christians conservative nonchristians vote mind usually rep dem dont believe 700 club tells people believe represents many older christians grew conservative backgrounds think many folks misunderstand said 700 club bums hear name calling either direction think 700 club folks really love jesus busy trying get people vote conservatively forgotten show love certain people promote peace like jesus please dont judge jesus based ignorant individuals believe lets also ignorant comments people mean\n",
      "* * * * * * * * * \n",
      "9336\n",
      "ok lowbudget film used quotes shot hi8 video acting universally horrid makeup laughable blood looks like came sherwinwilliams seen convincing bruises made halloween ghoul kits lighting generally looks like used someones borrowed toyota pickup shine headlights actorsi might able forgive lowbudget traits actual content movie made attempt tell story collection video footage boast plot real characters momentum selfindulgent messand dont worry spoilers cause theres absolutely nothing spoil\n",
      "* * * * * * * * * \n",
      "9396\n",
      "trivia page imdb claims filmmakers protested film recut studio simplify plot effort total failure one incoherent narratives ever seen film hate seen plot simplifiedits sad see warren little character go even cant anything inept material interesting see caron 70s mode instead hollywoodera glamour garb persona sad see haplessly wander doinga favortoherproducerhusband dreck would actually later hook marry director instead youll note never directed anything strictly 1st 2nd ad work tv oughta tell enough right therei call interesting automatic fondness american films period role add perspective oates otherwise fantastic 1971 output two lane blacktop hired hand 1940s detective fishoutofwater 1970s la theme thing movie really say sold way heavy handed manner similar theme would far effectively handled two years later altmans long goodbye far oates playing hardbitten guy doomed errand three years would give definitive performance bring head alfredo garcia havent seen dont waste time\n",
      "* * * * * * * * * \n",
      "9749\n",
      "engaging shouldnt lowgrade spanish exploitation quite tame might add looks good huh let phrase huh actually word huh would going mind quite lot nothing makes sense try dont know complicatedly cryptic convoluted muddle theres denying laconically uneventful strange wordy feelsunrelated sequences tied like nasty opening involving little girl dead cat fire sparse story involving photographer mario played chestpuffing john caffari whos mustache dead ringer nintendos iconic mario whats odds ditches girlfriend home encounters young lady gorgeously fixating patty shepard asks come photography assignment remote mountain retreat come across hooded witcheslook past unhinged plot structure wallow simply moody piece atmospheric mechanisms growing unease raul artigot directs jarringly unusual visuals creepy passages part seems sporadically nonexistent unfocused like writing ramon semperes striking cinematography lenses gracefully rich scenery take scenic views let time leisurely grind away however certain areas dark see going fernando garcia morcillos hauntingly bombastic overwrought score blends terrifically compulsively dense atmosphere created leads capable theres also sturdy bunch pick víctor israel secondary performancesslow little way interest dreamy setup seems go manages keep watching closing\n",
      "* * * * * * * * * \n",
      "9761\n",
      "movie amy posey raechel nothing funny believe house bunny better funnier hopefully principals good holiday got money movie embarrassment cliché beginning end clichés work well script least idea movie nothing use cliché cliché rather ideas script uses preexisting personas actresses rather develop characters bad sad rubbish apparently ten lines text comment really ops manager another example sloppy coding\n",
      "* * * * * * * * * \n",
      "10115\n",
      "oh condescending movie set los angeles center universe pov hollywood filmmakers movie tries deep social commentary contemporary american angststereotyped smarmy characters widely varying socioeconomic backgrounds cross paths everyday humdrum lives plot disjointed desultory numerous unimaginative plot contrivances keep film going like driveby shooting abandoned baby left weeds gang thugs intimidating lawyer guy flying night sky city kid summer campand events one constant generous helping sociological insights imparted dialogue characters compare notes life experiences one character tells another sit edge thing grand canyon realize joke people rocks laughing could tell worries real humorous grand canyonand another character pontificates meaning theres gulf country ever widening abyss people stuff people dont like big hole opened ground big grand canyon whats come pouring eruption rage rage creates violence aside horribly unnatural forced dialogue aside shallow smarmy characters aside dumb plot storys pace agonizingly slow acting uninspired perfunctory films tone smug selfsatisfied scripts contempt viewersthis film project approved hollywood suits fancy omnipotent gurus looking high think film startling revelation us lowly unknowing movie goers eager learn real meaning american social change\n",
      "* * * * * * * * * \n",
      "10149\n",
      "summary says made ignorant comment ever heard rpg seriously thought gay retarded went go save best friend someone decides goodness heart help serious debt man lavitz good person time helped made closer friends werent gay lovers like bitching let know game set medieval time period back women prepare meals men fought even know history know long took women accepted army present day game contains lot realism even though damn slow obviously catch really need spit solid proof instead ignorant assumptions based misguided act interpret story\n",
      "* * * * * * * * * \n",
      "10169\n",
      "low budget effort texas thats least filmed well little consolation bad acting say bad overacting pretty limp story line thats nothing new bad special effects bad bad bad seems like bunch young folks putting together haunted house halloween done every year year things different long extended lesbian theme annoying definitely fills empty spots lot putrid puerile definitely avoidable costs\n",
      "* * * * * * * * * \n",
      "10334\n",
      "dunno hype around really bad movieit nothing descent scene everyone comes together party nice song playing uplifting beat nice cinematic shots make movethat best part movie otherwise film lacks everything suck viewer theres story theres nothing think like people say theres cohesion different storiesit attempt redo andersons magnolia brilliant fails blatantly okay light easy watch movieclips maybe first write story make movie 410 one worst belgian movies seen\n",
      "* * * * * * * * * \n"
     ]
    },
    {
     "name": "stdout",
     "output_type": "stream",
     "text": [
      "10386\n",
      "cannot believe guy directed crap dracula 2000 dracula 2000 innovative fresh well written poorly actedthis pile cant even claim starts defeat dracula end dracula 2000 ignores narrative afterwards describing happened following narrative properly could made good sequel somehow craven chose go style older films good tie main villains nameeven actor playing dracula different going dark hair dracula 2000 blonde hereavoid movie respect taste movies\n",
      "* * * * * * * * * \n",
      "10418\n",
      "liked first two films sorry say going like one really rubbish unnecessary straight video probably tv made sequel still idiotic nice scientist wayne szalinski rick moranis still living family company szalinski inc unfortunately wife wants get rid statue wayne stupid shrinks statue brother shrinks wife sisterinlaw adults find way get kids house get bigger pretty much repeat two one two new things eg toy car roller coaster swimming dip etc pretty poor\n",
      "* * * * * * * * * \n",
      "10555\n",
      "friday 13th step officially worse movie hateful series won movie contest college waste money even free jack jones stars truly awful singer whose trying find murderers something least friday thirteenth never bored rather fingernails pulled see\n",
      "* * * * * * * * * \n",
      "10634\n",
      "feel totally ripped someone needs refund 495 spent blockbuster rent homemade mess musical complete waste time evening dont get get distributed first placesomebody must heavy drugs night deal made seen better films come film schools film school say fact quality work also bad viewshot dv nuff said songs songs banter sounds every section want see good musical dont rent movie\n",
      "* * * * * * * * * \n",
      "10668\n",
      "film without conscience drifter agrees kill man mobster money double cross meanwhile falls love dead mans wife without knowing killer moves accidentally kills finds walking tall kind heroism gets revenge mobsters double crossed first problem agreeing take murder hire assignment drifter loses sense sympathy worthiness heroism cant accept goodness result rest moral center cant care kind guy wife nicely played fetching kari wuhrer sheriff eight legged freaks high class lady runs mission homeless people similarly loses degree sympathy jumping right bed homeless drifter despite evidently weakened state death husband finds guy  locks inside house houses locks cant open inside proceeds berate stoopid george wendt however terrific role beefy thug director stuart gordon much better reanimator dagon\n",
      "* * * * * * * * * \n",
      "10729\n",
      "spoiler alerti love tim roth really best unbelievable role see movie might look good script convoluted unlikely ultimately silly saw fake death ending coming mile away rene z tries hard underwritten part patricia arquette detective whose name cant remember one thats chris penn big sweaty actor see smart enough differentiate movie clever cant follow confusing cant understand see like cheesy camera work makes seasick see love watch tim roth work unwieldy script see comes late night free otherwise rent usual suspects\n",
      "* * * * * * * * * \n",
      "10784\n",
      "former kalamazoo resident fondness town looking forward seeing movie disappointment although acting production values arent bad script awful plot unrealistic theme disturbingthe main message film women nothing without husbands children hardly believe regressive view women writer living rock although enjoyed seeing beloved city big screen wouldnt suggest movie anyone terrible embarrassment city named\n",
      "* * * * * * * * * \n",
      "10851\n",
      "laid drugged kidney stone wended merry way scarred urinary tract absolutely nothing better let painkillers swoon semioblivion happened catch movie cable wouldnt want anyone think paid view cinema rented  heaven forfend  watched straighthaving played sensationally gruesome video game avidly trod doomed rooms dread passageways house battling chariot type 27 hanged man type 041 impossible sentinels curiosity piqued game would transfer movie screenit doesntthe banal plot revolves around group crazy kids  la scooby doo  attending remote island worldshaking rave  whatever kids today hulahoops miniskirts pat boone bribing boat captain thousands cash ferry stupidity begs network rhetoric find rave desertedpassing mention made house  presumably titular house dead  action takes place fake outdoor sets locales divorced semblance haunted residencea fallen video camera acts flashback filler showing island throes  party oh rave thingy party grand tradition reeuphemizing used cars preowned shell shock posttraumatic stress disorder word party square drugaddled siliconeimplanted metrosexual jagoffs learned party broken rampaging zombies intelligent thought stops dont think pinheads call screenwriters directors understand mythos behind zombie reanimation zombies cant die  already undead bleed know pain unless bodies completely annihilated continue animated least thats jamaican witch priestess tells mewhich means 45 shot hearts going stop machete torso shotgun blast chest certainly bring forth gouts blood least video games logic shooter pumps many rounds monster completely decimated leaving fetid mush cannot reanimate itselfyet actorslashmodel gets matrixcircularcamera moment slaying zombies fronts single bullets karate chops sternum seriously zombies ineffective stormtroopers return jedi get knocked ewoks trip themi suppose films writer mark altman penned nottooshabby free enterprise felt compelled insert captain kirk reference character jurgen prochnow must needed milk money desperately succumbed appearing aromatic dungswill also reference prochnows primo role magnificent das boot one untrained bactors mentions looks like uboat captain wonder many movies target audience squareeyed swine picked snide references films prochnow declares say hello little friend presaging machine gun moment aimed demographic wherewithal comprehend sisyphean futility videogame concept ie game ends die  cannot win merely slasher film mindless mindless heart accordingly everyone dies due course except heterosexual pair attractive white peoplea better use films scant yet misused budget might send cast acting school although ona grauers left breast good job right breast  slomo running scenes priceless especially liked final scene ona trying act like stabbed looking like eaten ice cream fastattempting something constructive time pulled digitallyrestored 35th anniversary special edition widescreen anamorphic dvd manos hands fate ah yes  drugs suitably brainnumbing quality filmmaking movie maniacs visit wwwpoffysmoviemaniacom\n",
      "* * * * * * * * * \n",
      "10906\n",
      "movie worst crap ever seen literally got sharp pain head watching movie cgi awful story waste ink dean cains character mrsuperintuitiveicanfigureoutanything except cant seem work helicopter correctly biggest problem split screen camera work felt like watching brady bunch something wasnt different people boxes close ups different views thing figure actors really needed money movie wasnt worth film shot\n",
      "* * * * * * * * * \n",
      "11203\n",
      "hello therethis first post imdb even though use reference quite would therefore like salute fact greek inevitably going affect judgement hope annoyancei spent 2 years life greeks actually analysing omirus epos homers see everywhere rhyme rhyme recall well iliada iliad 8th grade odysseia odyssey 9th grade warners troy big disappointment fellow greeks around campus study ukiliad epos one best literature works ever made composed greek poet omirus whole 400 years actual war historians put trojan war around 1200 bc actual reason war helens beauty strategically crucial position troy said one may understand omirus epos presenting actual events accurate historically never purpose work reading huge poem one find wondering definitions honour love anger hate heroism discipline loyalty best part educational well prolonged talks warriors battle none though revealed troywarners troy really cheap eyes intellectual people english finnish german colleagues well shame spend millions dollars bad scenario way perfect storm bad stupid blockbuster computers graphics whole work yet wolfgang petersens best work conclude saying better watch something else instead would give troy 2 10 really expensive b moviecheers alex\n",
      "* * * * * * * * * \n",
      "11278\n",
      "hood living dead movies guys directed look like got together filmed buddies zero talent one afternoon bored lines completely unrehearsed unconvincing find 95 amateur movies 90 home video footage better film although similarities warrant comparison hey lets see anyone dumb enough buy movies hopefully nobody else wasnt apologies involved flic review somewhat harsh dope read fake reviews purchased movie\n",
      "* * * * * * * * * \n",
      "11817\n",
      "banned video nasty uk unhinged naturally gained quite bit notoriety however shocking thing found film amateurishness departments bloodletting could handle terrible acting shoddy editing awful direction lousy script abysmal soundtrack much harder takethree girls way music festival crash ravine storm rescued friendly stranger takes nearby house owner house batty old lady spinster daughter welcome girls allowing stay days order recuperate however someone doesnt want girls leaveever one one fall victim unseen assailanttaking long time get going featuring worst performances ever horror film takes unhinged truly awful film music total mess sounds like three year old let loose synthesiser complements movie perfectly couple bloody scenes towards end bit gratuitous nudity save unhinged getting lowest possible scoreif horror completist unfortunately want see order tick video nasty watchlist warnedit really really bad\n",
      "* * * * * * * * * \n",
      "11825\n",
      "notice comments people discussing movie basing remarks mst3k airing thats fair enough got widest exposure misfortune seeing final justice original form like share thoughts comments uncut versionfirst must admitted original version slightly coherent mst3k broadcast owing primarily expository scene rossano brazzi venantino venantini could use characters names instead actors love typing words venantino venantini explaining venantinis fugitive character cant leave malta right away convincing plot point least filmmakers tried cover whether scene cut time didnt provide much fodder riffs dont knowanother plot point missing original strippers betrayal venantino venantini joe baker seemingly unmotivated mst3k version explained earlier extremely unpleasant scene venantini rapes shower give motive turning whole scenario reallyicky theres word itsome mstworthy moments perpetual truncated shouts son deja vu shooting sheriff purely result editedfortv print worked absent original movieone scene wish made mst3k version entering bar question people joe asks maltese policewoman accompanying stay outside see uniform wont cooperate however joe wearing ridiculous cowboyslashsheriff outfit complete shiny badge cant imagine passed great opportunity make fun himone final observation original uncut version final justice oh feel need put venantino venantinis naked butt screen\n",
      "* * * * * * * * * \n",
      "12093\n",
      "really dont anything new add felt like comment sack goesatrocious running mst3k dvd collection watched hobgoblins 10th time really really painful next list see tiny kernel actual movie buried crap hobgoblins couldnt get everything movie 4th rate story acting effects women action scenes ahhhh forget watch piece crap like bloodwaters dr z aka zaat hardly ill effects like fact btw tcm later month october 2009 hobgoblins whole nother ballgamethe worst part may 12 hours movie ended good nights sleep coffee dry toast medications yet ersatz new wave dance music amy red shorts laraine newman frolicking living room still running head torment last days good luck wont\n",
      "* * * * * * * * * \n",
      "12114\n",
      "idea entertainment watching graphic footage people run cars get see woman passing front wheel twisted car passes goes back wheel show twice case missed first time documentary admitedly didnt watch disturbing piece voyeurism enough maybe rest even betteri wonder long going take television networks start showing slush movies perhaps game shows based selfmutilation might nicei already know disturbed people world horrible things happen dont need see proof tv masquerading entertainment\n",
      "* * * * * * * * * \n",
      "12250\n",
      "film story bad enough happen real life understand show us bad film say bad reason 1 madonna rich everything want falling love bad man 2 story script weak rich everything want dare divorce husband impossiblethe words love doesnt meant anything film\n",
      "* * * * * * * * * \n",
      "12446\n",
      "woman cannot strong character movie without sleeping leading man campaign manager movie dreams leading tom sellick white house think earth must affair added nothing plot served demean successful women value tidbit cute slept husband scene also couldnt people made movie watched national conventions spoofing airing two major political conventions served highlight total ignorance nomination selection process\n",
      "* * * * * * * * * \n",
      "12510\n",
      "ok anyone could honestly say movie great even good either delusional knows director writer producers trying boost buzz film watched movie friend mine worked horrible actress worked industry big films even independents movie bored tears reason harsh film clearly different take mice men sue horrible ripoff story industry hollywood seems creatively bankruptfor someone take classic book film mice men destroy new spin bugs much actors accents dialog direction amateurish writing dismal mean going take new spin existing story make sure good better original make new spin justified like movie\n",
      "* * * * * * * * * \n",
      "12554\n",
      "kidding one worst movies ever seen bad though hilarious friend purposly rented looked bad cheesy old horror flicks always good laughs plot stunk voices dubbed quality horrendous sure blast watching\n",
      "* * * * * * * * * \n",
      "12586\n",
      "ever make movies without nudity sex came 300 sunday afternoon couldnt believe showed thank god son outside would freaked seen softmedium porn people make movies care offend corrupt kids could watching church show acting good enjoyed suspense gee violence bad guys expected western movie randy travis really good role writers directors producers would quit putting much uncalled sex scenes happen get quit going direction complain\n",
      "* * * * * * * * * \n",
      "12623\n",
      "horrendous avoid like plague would rate top 10 worst movies ever special effects acting mood sound etc appear done day care studentswait seen programs better opens like soft porn show blurred nude female shower scene goes bad good nude scenes sound light problems persistent throughout movie times would swear could hear roaring camera motors yikes would like see another movie story done different people batch actors crew need acting movie making lessons voted 1 10\n",
      "* * * * * * * * * \n",
      "12717\n",
      "although movie takes place ivy league college fact shot entirely northern arizona mostly northern arizona university flagstaff fall 1976 involved theater department extras film thenmembers theater department absolutely ludicrous scene film know arizona geography shows several cast members riding bikes college creek nauers know campus said creek actually oak creek canyon 35 miles apart trip downhill would literally impossible ride bike back road\n",
      "* * * * * * * * * \n",
      "12781\n",
      "overrated success amenabar balaguero spanish horror movies spread like disease increasingly sad world horror movies result films like el segundo nombre tvlike production bad written acted directed even worse didnt read ramsey campbell book sure author doll ate mother didnt much common terrible production avoid cost unless searching quiet sleepy night fresh movie theater 210\n",
      "* * * * * * * * * \n",
      "12856\n",
      "1st watched 1172002 2 10dirjohn bianco pretty lame gangster movie godfatherlike family brooklyn like say fourletter words lot kill people thing interest attempt show feds lot like gang attempt good filmmaking rest movie predictable cheaplymade quality photography scenes inside bars floozy joints almost made think problem dvd player bad contrasts actors hard hear times bad sound acting prettymuch characatures favorite gangsters better movies corny names like vinnie knuckles jimmie tattoos plot pretty much followed patterns well go see better gangster movie put money one\n",
      "* * * * * * * * * \n",
      "12949\n",
      "one silliest movies 1940s unbearable haunted house comedy music starring kay kyser kyer orchestra leader radiostar eternal college fraternity goofoff sort precursor spike jones hamming guests backed willingly merry troupe musicians hired play birthday party gloomy mansion kind poison darts imported africa framed hung wall shindig beset creepy judge scary professor ominous swami lots giggly females enough bad jokes fill three bob hope pictures songs jimmy mchugh johnny mercer nothing brag neither overconfident kyser yukking elbowintheribs material turns 1940 back ten years\n",
      "* * * * * * * * * \n",
      "12978\n",
      "dont care many nominations junk got best movie stunk didnt know whether turn set file lawsuit ojs attorney wrongful damage mental health seldom bored call dung entertainment slap face every moviegoer across planet whole story stupid acting uninspired drama emotionless thankful didnt pay unfulfilling experience\n",
      "* * * * * * * * * \n",
      "13155\n",
      "worst movie earth dont even know begin hope save another person punishing movie comes acting lighting movie similar bad porno without sex actors worst ever seen couldnt worse even trying make complete mockery movie movie must record breaking low budget sure wasted almost solely movies cover movie become running joke friends mine become standard comparing garbage movies would like point movie even begins compare feel personally responsible suggesting friend watch movie surprised still considers friend torment put us dont see movie\n",
      "* * * * * * * * * \n",
      "13180\n",
      "collection really sucksi rented thinking i´d really would enjoy good fighting man sucked quick flashy cuts extremely annoying speaker fights selves heavily edited shortened i´m thinking especially jet li´s fight fists legend jackie chan´s fight drunken master 2and what´s deal brawling streetfighters what´s cool i´ve seen interesting fights martial lawthis stupid collection cuts stupid peopledo ever buy film encourage people made crap make crapinstead go buy movies fights wath fights uncut glory\n",
      "* * * * * * * * * \n",
      "13191\n",
      "dissapointing action movie interesting premise young mafia wouldtobe killer chandler must demonstrate boss good man service goes california take lessons known professional killer beluschi first important task kill young woman lee completely strange easy target movie goes based upon principal idea result bad routine even weird twist end save movie good performance chandler give 4 four\n",
      "* * * * * * * * * \n",
      "13199\n",
      "cant believe movie even made video video rental stores willing put shelves literary asked refund take away fact movie historical truth still worse movie ever found video store even good enough called b rated movie waste money time movie listing voice horrible music made sick anyone involved movie pulled union gives industry black mark watching movie really dont think anyone involved union member\n",
      "* * * * * * * * * \n",
      "13374\n",
      "richard dreyfus star three 20 second cameos gene barry movie idea director probably brother movie makes sense whatsoever inept writerdirector dude butchered everyones talent horrendous uhwork got dvd penny cant complain weirdand makes feel weirded good way 70s looks like director bad acid trip wanted everyone experience like inside head somewhat interesting controversial concept like scratched record quickly plays foul manson family acid vibe iti idea reviewer got movie maybe worked back rate prepared lose 80 min life youll never get back yes awful\n",
      "* * * * * * * * * \n",
      "13565\n",
      "horrible movie three stories bracketed psychiatrist hypnotist line unnecessary stories bad first wild wolves lady things dont make sense hypnotism thing makes second one bad bill paxton maniac roommate viewed anyone last one sadly best almost incomprehensible guess makes better garbage\n",
      "* * * * * * * * * \n"
     ]
    },
    {
     "name": "stdout",
     "output_type": "stream",
     "text": [
      "13749\n",
      "low budget b horrors plot comes amenities mad scientist complete sidekick malicious corporate greed pharmaceutical industry eccentric extreme genetic engineering information technologycant leave outstart strange sequence hot looking nameless boaters foolishly decide take dip waters near uncharted island end chum swarming hammerhead sharkscut weak back story implying stock decline generic pharma corporation motivates wicked shakespeare quoting ceo entertain unsolicited offer made former employeescientist jilted job head research also happens nutof course total herbert west wannabe offering new stem cell technology could make tons o cashor seemsthis lures several employees moreauish island must quite impressive exit package company let go afford island validate scientific findings including ceo coincidentally exfiancé mad scientists son morphed sharkuman convenientthe plan sort rekindle lost love former nuptials exacting revenge former colleagues termination sheez guy bitter friggen island allsoon everyone run endless supply security guards toting heavy weaponry mutant plants  uncharted island without maneating plants sharky sons appetite carnage quack daddys breeding plans lack cell phone signaland must learn work together get island alive anyone escape new species created watch find outthere entertainment value movie dont expect muchfor true combs fan missed dont say didnt warn\n",
      "* * * * * * * * * \n",
      "13858\n",
      "whirling movie looks like combination musicclips mtv real movie real story movie goes ask going happen nothing happens story around eric cloeck frustrated writer good thing persons seem nothing common bring together movie music make watchable worst movie open tap comes water music bach people like look movie director learn write script movie 100 minutes starting direct movie\n",
      "* * * * * * * * * \n",
      "13870\n",
      "keen really story pretty horrid unconvincing enjoyed first 10 minutes bill nunns good pretty appalling tim doesnt fit role comes across smug self inflated ass pruitt taylor vince entirely unconvincing trumpet player idealist film musician feel slightly offended watching theres scenes 1900 practising playing fellow band mates completely self indulgent find hard build relationship kind character maybe watching wrong film real passion life sense musics happily indulge suspension disbelief watch waffle\n",
      "* * * * * * * * * \n",
      "13910\n",
      "incomprehensible mess movie something cop extracts bullets gets shot keeps glass jar bathroom size jar shot fifty times top secret tank guarded five six incompetent soldiers reason drive mexico whether sent intentionally got really really lost never made clear youll never hear another screenplay feature word butthorn either gary busey tries mel gibson role lethal weapon busey serviceable actor screenplay damns whole movie mediocrity william smith another turn russian soldier character played red dawn years earlier playing biker heavies 70s sort nice see expand range playing communist heavies sadly hell probably always remembered best guy clint eastwood whupped every way\n",
      "* * * * * * * * * \n",
      "14038\n",
      "converting book film generally good idea keep least authors intended tone conveyed concepts rather ignoring author altogether clear director access went advice elinore stewarts children key note children believed mother complete liar regards good enriching strengthening experiences homesteading land book details life husbands adjoining homesteads vast wyoming frontier chronicles daily adventures numerous friends acquaintances though lived dozens miles apart film however takes standard stance time made portraying womans experience harsh unforgiving nearly pointless perhaps director bringing vietnam war experiences movie film aficionados said seems lousy excuse taking joy beauty book twisting bleak odious landscape devoid friends hope dont waste time movie read book instead\n",
      "* * * * * * * * * \n",
      "14257\n",
      "film awful cgi cheap gray blob cgi crocodile looks like large gray smudge worst effort given making walk look like alive mostly photoshopped cgi placed scenes almost expect see hand moving cgi smudge across screen one worst examples cgi effects ever witnessed seen lots bad scifi channel moviesaside terrible lack special effects cast composed typical lowcost actors probably work waiterswaitresses local diners wait big breaks perhaps ridiculous scene movie one bad guys attempting sexually assault kate giant crocodile jumps straight water second floor villains headquarters balcony pulls bad guy kate instead crashing straight building crushing kate croc flies backwards angle water laws physics apply movie special effects least honor among crocodiles\n",
      "* * * * * * * * * \n",
      "14271\n",
      "acting bad ham jokes superficial target audience clearly young children assuming average iqs realize meant kids malcom middle yet still throw adult humor situationswhat expect show lead bob saget comedian existence less funny ball hitting mans groin probably stopped hosting americas funniest home videosparents let kids watch show unless want save money college expose kids stupidity grow dumberer\n",
      "* * * * * * * * * \n",
      "14323\n",
      "hard believe director barbet schroeder majestic funny maitresse 1976 seems numbers hollywood thrillersthis lightweight john grisham material crossed plot tv movie bullock cass mayweather feisty independent crime investigator specialising serial killers ben chaplin reserved police partner sam kennedy together make uncomfortable duo good two unbalanced college maladriots gosling pitt decide send wild goose chase planting clever misleading forensic evidence crime scenefair enough bullock chaplin fail create sparks also endure several dull overlymelodramatic flashbacks illustrating important event casss history course frequent shots cliffside log cabin theres absolutely doubt ott ending set oooh atmospherewatch episode csi instead point far exciting\n",
      "* * * * * * * * * \n",
      "14379\n",
      "theres denying first azumi film commercial product adaptation popular manga cast young attractive actors certainly wasnt lacking budget department yet entertained cant deny enjoyed immenselyazumi 2 lacks everything made original wonderful first thing set alarm bells ringing absence superb ryuhei kitamura helm seemed take visual flair kinetics originals style beauty importantly heart first simple hitlist plot one corkscrew mess story many dull characters stabbing back many times potential sympathy pathos obliterated gone effective interplay lead characters azumi cohorts often reduced bunch stroppy teenagers arguing forest characterisation non existent anyone watching actually cares lives dies ill shocked applies villains final battle fact battles completely devoid sort tension fact poorly choreographed abysmally directed mention far made sideline sheer pointlessness villains try far hard campy even combined dont come within country mile pete burnsian antics jo odagiri originalmajor spoiler end paragraph aya ueto tries best said also managed keep hair good condition films azumi fully fledged assassin meaning wave sword around slow motion unfortunately character instilled sort man name style mysteriousness uetos model looks become even inappropriate know supposed point combined ineffectiveness everyone else film stupidity plot general ineptness film general means downright impossible get behind character time around less said chiaki remember kill bill kuriyamas performance better suffices say turn good evil subtle napalmoverall colossal disappointment merits done ten times better first film lazy unsatisfying generally downright boring mess\n",
      "* * * * * * * * * \n",
      "14383\n",
      "five minutes watching logged imdb warn bother movie genrehorror moments mild suspense throughout whole movie thinking somethings gotta happen soon notwhen movie ended felt embarrassed writerdirector never biggest fan patrick rea guy know make movies watching sorry excuse horror flick gone biggest fan watch another worksi taken plot summary please dont make mistakei gave movie 2 actorsthey bad wasnt fault got bad direction\n",
      "* * * * * * * * * \n",
      "14493\n",
      "film makeovers old tv shows seems norm hollywood days disrespectful toilet humor doyoukissyourmotherwiththatmouth foul language ripoff blatant middle finger dukes hazzard fans north south masondixon line opening sequence bo luke duke making moonshine run uncle jesse shine running show would put boys back jail parole violation closing sequence uncle jesse smoking weed governor georgia uncle jesse moral compass despite previous moonshining ways disappointing waste film open faced insult cant tell many parents saw get remove children theater within first 15 minutes movie realized horribly deceived original dukes hazzard family show basic moral values original dukes hazzard kid safe hemi powered show fun parents didnt worry teaching kids george carlins seven words read reviews stating show movie nothing racist commits might correct movie commits absolutely incorrect show show anything get along friends anyone hollywood finally come open disdain us yankee rebel otherwise still believe honor loyalty trust family right thing even popular thing hollywood finally brought light belief us heartland stupid uneducated beer swilling foul mouthed trash buy piece garbage willing sell prove hollywood elitist wrong go see movie boycott sponsors fill warner bros email snail mail boxes complaints dont appreciate destroying one greatest tv shows time save money buy dvds original show whatever go see movie\n",
      "* * * * * * * * * \n",
      "14732\n",
      "film name modesty based around episode takes one page 10th modesty blaise novel called night morningstar describes incident young modesty 17 book mid twenties filmasserts leadership war casino set actual blaise adventures trusted sidekick willi garvin film one main problems relationship blaise garvin certainly always one fascinating aspects novels long running comic strip problem film quite simply incredibly boring really one small episode blown screenplay casting okay alexandra staden really convincing heroine actually old role play young modesty get impression film quick dirty solution lose rights blaise franchise\n",
      "* * * * * * * * * \n",
      "14805\n",
      "love julian sands least attempt watch anything movie nearly hard pressed remember found movie movesoslowlyzzzzzzzzzzzzpop vcr run sleeping pills\n",
      "* * * * * * * * * \n",
      "14860\n",
      "know know plan 9 outer space worst movie maybe manos hands fate cant get worked sockmonkey movies course bad could good talking movies respectable production values bankable talent rex turkeys yentl treacly phoniness selfabsorbed asininity stains everything barbra streisand done since 1964 reaches culmination movie lonely summit awfulness yentl looks back star born forward mirror two faces nothing else quite like emotional undertow dragged streisand make movie would rather speculate audience playing cannot possibly imagine although ill bet theres nine ten chance arent member itnobel prizewinner saintly guardian yiddish literature isaac bashevis singer outraged streisand story blasted public tribute streisands impenetrable vulgarity didnt commit suicide went make awful movies\n",
      "* * * * * * * * * \n",
      "14882\n",
      "happened upon copy mine spent money finding responsible demanding back say would terrible student film understanding medium film absent acting god awful story would rejected original twilight zone series unoriginal lame change tone lead characters reaction ghost laughablei agree glowing reviews film friends family afraid even entertainingly badamateur extreme avoid avoid avoid\n",
      "* * * * * * * * * \n",
      "15279\n",
      "line starts one silly boring british sci fi film great vorelli movie devil doll builds teleportation machine funding cut blanchard bearded man thing bow ties men large eye brows experiment fails good doctor learns lembach man controls grants world staying london days attempts project house blanchard help comely lab assistant sheila needless say something goes wrong winds looking like rat rest movie devoted good orange haired doctor walking around london shocking people mutated hand wearing diaper face killings modest paper work finally doctor vanishes ever rat faced doctors go thankfully one decided make sequel\n",
      "* * * * * * * * * \n",
      "15306\n",
      "wished taped men white could watch mean really enjoyed theo mean could watch see retarded stupid embarrassingly unfunny remember lot people claimed made children may suggest also made children whole structure script lacks type discipline part producers writers much set pieces seem included seemed like good idea time cast dont help genuinely started feel sorry honestly believe filming cast lie families filming hard core porn film embarrassment appear something dismal give idea bad acting every time baywatch babe donna dericco disappeared narrative waited patiently reappear seconds later forgot movie got star baywatch appears seconds later forget movie tells need know standard men white fair enough trying live action cartoon similar goodies although dismals would better adjective movie though perhaps movie deserves credit never descending toilet humour considering kids movie didnt stop itv broadcasting 11 pm near knuckle humour anyway\n",
      "* * * * * * * * * \n",
      "15445\n",
      "given book version kazaam 8th birthday people always say book versions always better movie time wrong least movie soonthe acting terrible expected film shaq plays magical rapping genie comes old ghetto blaster probably good reason trapped kid film plays max whiny terrible actor bullied neighborhood kids dont blame little douche bagthe story plain stupid extremely cliché boy whos father always working never around finds new friend makes life better eventually helps reconnect fathereven 8 years old thought stupid idea surprise people worked film careers wards embarrassment never made could ramble even movie sucks already know reading plot\n",
      "* * * * * * * * * \n",
      "15535\n",
      "2 words sean bean worthwhile presence film even dont see movie even though good main villain dont want waste time didnt care characters except little boy fact didnt really care star crossed lovers ended together died movie make care believe people cared read lot classic novels seeing movies movie made even want read book story seems boring may go ahead read try redeem story head stay away lorna doone actress played lorna also sense sensibility much better watch sharpe horatio hornblower e great movies novels like pride prejudice miniseries like forsyte saga check dont bother lorna doone\n",
      "* * * * * * * * * \n",
      "15644\n",
      "went see wife 3 yr old son seemed like lot wife writing surprisingly poor pixar disney excursion fact hard time paying attention movie look amazing story becomes weird long winded hoping son would fall asleep could pick walk outnot say film isnt interesting concept told oddly bad screenplay especially meet family first time know supposed get impression family wacky good lord couldve shortened sequence good 15 minutes seemingly didnt actually time point scratching head looking exit\n",
      "* * * * * * * * * \n",
      "15886\n",
      "tyrannosaurus azteca set sixteenth century famous spanish explorer hernando cortes ian ziering landed mexico six best men including lieutenant rios marco sanchez intend claim land name spanish maybe steal gold opportunity arises within minutes first sight local aztec savages within minutes cortes men captured held prisoner wasnt bad enough turns couple tyrannosaurus rex live like eat locals effort win lives spanish offer help locals get rid monster problem various hidden agendas ulterior motives dinosaurs watch fordirected brian trenchardsmith coincidently made one time favourite exploitations films turkey shoot 1982 throughly recommend one also commonly known spoof sounding title aztec rex title changed scifi channel aired maybe original title tyrannosaurus azteca sounds like might foreign film yet another idiotic cheap looking scifi channel creature feature thats need know really based around real spanish conquistador cortes expedition mexico film definitely doesnt strive historic accuracy although admit story tries something slightly different ultimately tyrannosaurus azteca still creature feature bunch people running poor cgi computer graphic monster despite period setting sure else say despite set centuries ago usual clichés characters usual cardboard cutouts make stupid decisions selfish one heroic one backstabbing one faceless victim exists get eaten pretty woman easy spot film predictable silly dull doesnt really entertain level although move along decent pace theres one two half decent moments gore sort thing interests story isnt good plenty holes also sort film completely forgotten within daysnow seen commented plenty scifi channel creature features usually cgi computer effects terrible tyrannosaurus azteca doesnt exactly buck trend admit effects shots look alright usually ruined absolutely awful effects shot straight afterwards theres decent gore effects theres cut heart guys leg bitten theres blood splatter cool shot guy left holding intestines attacked dinosaur theres dead bodies seen someone stabbed spear trex gets eat couple people production values really cheap aztec set looks like one theme park attractions made styrofoam spanish men must imprisoned worst enclosure cinematic history fence supposedly keeping lower mans waist could simply stepped run away lowwith supposed budget 900000 cant see money went shot oahu hawaii apparently fifteen days acting isnt great noone ever heard oftyrannosaurus azteca really isnt better cheap scifi channel creature feature despite almost interesting unusual premise basic statement basically enough decide whether enjoy guess probably\n",
      "* * * * * * * * * \n",
      "16150\n",
      "movie two brothers supposed alike way expect smart one surgeon able write computer code geniuses like call sounds exaggerated compare personal characteristics perceive material titlei honestly didnt like style movie believe anxiety confusion deep blues brings purpose dont get much movie cheap scenes tells story basically human aspect gives comic book like experience however visually numbing viewer somehow brings inside blues brief dialogs monotonic scenes dynamic cut music abrupt noisesthe movies storyline simple whats going dramatically pictured long minutes mostly confusing delirium simulating effects drug use dynamic cutsi say openly movie didnt meet expetations tiny bit\n",
      "* * * * * * * * * \n",
      "16427\n",
      "first three words read book really guys demonstrates difficulties genuine rendition esoteric matters loved book utterly disappointed film ludicrous half heart story bad explained novel first place wasnt meant focus adventure thats surroundings film focus reverses message taken back seat additional visual effects show energy living things elucidation events end parsimonious screwed ill never watch\n",
      "* * * * * * * * * \n",
      "16481\n",
      "series poweroutages remote island zoo genetically engineered sabertooth tigers loose mauling residents island man scifi channel made bad original movies think might possibly worst far badly written directed jurassic park ripoff offers usual clichés mad scientists thinks people killed monsters expendable losses characters walking long dark hallways alone braindead teen characters whos function film die horrible death etc unsurprisingly suspense whatsoever special effects atrociousthe puppet heads closeups title beasties bad enough looking like stiff plush dolls cgiwhich makes computergenerated dinosaurs walking dinosaurs look lifelike comparisonare downright awful theres gore looks pretty unconvincing oh death scene scientist end truly one worst things seen years couldnt even laugh baddont waste time one downright bad210 oh heres interesting trivia youthis film borrowed music cues 2003 scifi film alien hunter far superior piece crap\n",
      "* * * * * * * * * \n",
      "16563\n",
      "film mans life going wrong business failing cannot impregnate wife despite multiple attemptsthe plot complete chaos simply make sense fact nothing film makes sense story poorly told simply could understand shame sets costumes done well visually stimulating enough shots well composed throughout film however redeeming features still cannot make bad plot poor story telling amazed big names agreed star film waste talents film bad avoid\n",
      "* * * * * * * * * \n",
      "16616\n",
      "hope classicistsancient historians saw cleopatra took laugh movie horrendously inaccurate laughably even gladiator least wellwritten script whose historical errors articulate correspond well story blatant octavius caesars heir senate caesars assassination ripe old age 19besides acting mediocre timothy dalton hint james bond says caesar julius caesar billy zane laughably dense marc antony leonor varela tries best seductive pharaoh real life goodlooking comes unbelievableso warning historiansthis movie true life\n",
      "* * * * * * * * * \n",
      "16726\n",
      "want see movie gamers dead gentlemen productions movie movie funny waste timeall good comments seem written poorly disguised false third parties people made movie seem attempting synthesize fake interestthis movie well done mockumentary comparisons spinal tap christopher guest insultingthe movie meanspirited cannot imagine anyone familiar subject matter finding funny able laugh important quality ones lampooned manner hate enjoy itthe movie offensive grand satire taboo topics constant pathetic banality\n",
      "* * * * * * * * * \n",
      "16798\n",
      "small california town diablo plagued mysterious deaths sheriff robert lopez unearths ancient boxlegend box holds sixteenthcentury mexican demon named azarfbi agent gil vega sent investigate murders joins forces sheriffs daughtersdominique mary fight evil bloodthirsty demonthe legend diablo absolute garbagethe film lacks scares gorethe acting amateurish direction badthe animation one aspect film enjoyedim big fan indie horror flicksfor example loved torchedlive feedbone sickness neighborhood watchunfortunately legend diablo huge misfiredefinitely one avoid\n",
      "* * * * * * * * * \n",
      "16896\n",
      "summer season choices cinemas limited whats hottest movie week given 999 screens dedicated screening ok may exaggerate percentage get drift besides stuff hollywood bollywood share highly anticipated blockbusters trailers shown hyped watch tashan billed one highly anticipated 2008 quite surprised lower low turnout cinemas watched jodha akbar full house wasnt tashanafter watching knew entertaining fundamentally weak like literal english title means style tashan style little substance doesnt usual star power scenes felt forced bordered tad ridiculous even bollywood standards must say quite surprising given tashan directed written vijay krishna acharya wrote dhoom dhoom 2 enjoyed tremendously rookie directorial outing tashan cant fault direction probably scratch head plot clunky best tried force many things story though credit given allowed avenue question character motivation came little late toward finale left guessing moment latched full blown action mimicking many thai action movie hong kongs wirework hollywoods ludicrous firearms gunplay zero recoil bid include everything including kitchen sink assortment vehicles appearing one took cake dhoom 2 homage jetski boat middle nowhereat best tashan enjoyed unintentional comedy attributed cast hammed characters saif ali khan plays jimmy cliff call center executive gives english tuition platform fishing new girlfriend material playboy ways gets junked aside meets pooja singh kareena kapoor whos exactly seems meek sweet natured hottie engages jimmys services boss mobster bhaiyyaji anil kapoor probably gets laughs speaks broken english phrases must like ahbeng complete quartet akshay kumar plays bachchan pandey illiterate gangster hire got engaged bhaiyyaji hunt jimmy pooja escape money stolen bahiyyajis businessso begins road trip sorts friends turned enemies enemies know become friends road trip wears jimmy cliff probably implausible goes zero hero executing moves would shame rambo absolutely time quite character kareena kapoor amps sex factor uses charms guile men plenty opportunity given much touted bikini scenes costumes boast plunging necklines hemlines way knee every character backstory created thought akshay kumars bachchan pandey probably best touching fun lot even though character seemed lot like nongreen incredible hulk gravitydefying leaps power packing punches wounds also heal automatically impressively puts wolverine shame best part theme song damn alphamale played rara mode time takes adversariesbut sad say thats tune memorable something cheers bachchan pandeybachchanpandey bollywood movies watch usually able despite obvious language gaps emerge screenings humming tune two wasnt able tashan songs unfortunately werent catchy usually songdance routine works well storyline without necessity bring characters current scene location enjoy versus plucking plonking extreme settings high atop mountain atop jagged rocks beach fronttashan probably didnt take seriously coming vijay krishna acharyas story probably wanted something little decent rather ridiculous continuity little careful well billed blockbuster start understand crowds already shunned one despite akshay kumr stealing show tashan could better whole\n",
      "* * * * * * * * * \n",
      "16983\n",
      "movie boring characters scenarios unrealistic unbelievable action hilarious movie big mess almost seems like action music kicks impressive stunt running either voice dubbed mr mcgregor steven sang much changed voice way much dialog movie extremely bad acting everyones behalf movie great sleep therapy fighting laughable eye shape shift effect evil designer drug addict females decent main villain joke character poorly developed main villain used explain story interrogation would throw random plots spoiler ctx designer drugis going water supply never addressed conclusion even mentioned movie movie highly recommended pass\n",
      "* * * * * * * * * \n",
      "17023\n",
      "indian cinema comes along movie like sholay changes way audience perceives good movie den whilehopefully rgv ki aag breaks standards creates one standard low never broken ram gopal varma manages take melting pot talent create dish stale u smell distance take classic like sholay assassinate totally unforgivable cant believe almost called movie rgv ki sholay although sholay lot folklore elements movie managed build plot merely defining characters distinctively lived forever aag take characters mess badly ull need contest pick worst realism element totally missing movie ends providing bunch actors parading along plot less seemingly unrelated set events one star film ridiculous waste vote time rgv wake reality failure conjure another different plot categorized cinema\n",
      "* * * * * * * * * \n",
      "17025\n",
      "panel discussion attended viewing film filmmakers stated one look movie provoker thought well thoughts provoked time wasted watching movie gimmicks film documentary style futuristic setting served distractions supposed thoughtful examination abortion debate film illustrates problem people try use film platform political views usually boring movie preaches choir\n",
      "* * * * * * * * * \n"
     ]
    },
    {
     "name": "stdout",
     "output_type": "stream",
     "text": [
      "17123\n",
      "stopped bb picked 4 zombie flicks watch weekend understand effects cheesy acting subpar sets suspect expecting much least story stories dont cost thing except timeapparently didnt time eitherzombie nation 5 zombies appeared near end movie looked like new wave hookers picture zombie front cover never appears movie absolutely agonizing watch nothing offer genrethe running time 81 minutes felt like 2 hours according wife could hear movie since computer another room sounded like zombie pornwhich think sounds kinda grossbut wasnt even goodthe suggestion make maybe writer tried many things ended incoherent messit ended free rental still feel ripped rated 1 10 imdb wont allow use decimals\n",
      "* * * * * * * * * \n",
      "17158\n",
      "amateur budget films surprisingly good however one themah another brad sykes atrocity acting hideous except emmy smith shows promise camera direction needs serious reworking hold camera run gimmicks either doesnt work special effects unimaginative theres problem effect identified real time going rip ear please dont let us see actors real ear beneath blood scenery bland boring mr sykes ventures music cross cheap motel porn really bad guitar driven metal see scenery commentdid mention lack real plot character development apparently scriptwriter didntwhoever funding guy please stop seen home movies plug bad normally director grow learn previous efforts guy one thing amateur filmmaker anyone hackdefinitely even popcorn film course chewing popcorn kernels would less painful effortaward worst ever military pushups film\n",
      "* * * * * * * * * \n",
      "17334\n",
      "shame shame fine actor joseph fiennes would allow cast piece nauseating drivel movie bad right horrible redeeming quality plot one seemed go russians played silly kill killed games rest cast declared null void pathetic performances gave 34 way turned 1 awful nothing lower dont waste time one youll miss anything\n",
      "* * * * * * * * * \n",
      "17340\n",
      "recently online looking site featured public domain movies long list films film thought must hallucinating offensive title premise thats really since film 27 minutes long decided give try turned porno movie would stopped watching instead turned bizarre film ever seen danish production crew tried budget 49 make star trekstyle film crew gay men traveling galaxy wiping female oppression killing womenlike proceeded earth every case met cheers thanks gay men planetsubtle aint obscene juvenile names characters ever heard dont even think write imdb without review removed however despite utter crappiness strangely watchable worth peek mentioned already due crude names odd subject matter though nudity film adults way movie left 1001 questions would make make intended audience may absolute worst thing ever seen probably weirdest possibly offensive\n",
      "* * * * * * * * * \n",
      "17471\n",
      "movies dinosaurs entertaining whoopi goldberg movies whoopi dinosaursafter first 20 minutes theodore rex come one conclusion movie evil evil vile wicked reprehensible spite audience nothing bad made accident visual equivalent torture chamberfirst whoopi make good action movies watch fatal beauty think lying film makers dont care tough cop yet seen million cop buddy flicks week well heres number one million one paldont like cute humanistic animated dinosaurs since spielberg tv show bad heres another one cop tooyou one people hates car chases shootouts sloppy dialogue boring futuristic fx seeing talented people goldberg muellerstahl roundtree stuck movie looks like tax writeoff big tax writeoffand read review way end deserve sequel seriouslyno stars one really make sequel theodore rex hollywood deserves attacked whole herd wisecracking foam rubber dinosaursnow pay see\n",
      "* * * * * * * * * \n",
      "17475\n",
      "bo jane parker whose longlost anthropologist father richard harris worst role inconsistent career africa studying something another tracks tells natives stories giant monster whose nightly howling heard throughout jungle turns ape man miles okeeffe films best dialogue rescues bad guys falls love leaving enough time agonizing two hours romp naked horny monkey looks cheers normally openminded varying opinions film sole exception worst film ever made dont agree havent seen notes newsday called unendurable best oneword summary think maltin movie guide comments almost think rating lower bomb\n",
      "* * * * * * * * * \n",
      "17504\n",
      "movie horrible makes angels lose wings shaq tried make crossover efforts like work shaqfu nes plethora unbearable rap albums later epic serving horrible filmmaking steeltheres single good thing said movie saw bunch times young mustve idiot movie takes enjoyable films tears apart fun mock saw disney channel back spent minutes although thrill mocking done still become overwhelmed terriblenessif see tv try consider watching film removing scenes shaq uses magical genie powers becomes like film pedophile chasing kid rapping seduce thats kinda funny disturbinga horrible example film unless looking mock see movie\n",
      "* * * * * * * * * \n",
      "17633\n",
      "give jms boys pass one beginning series small budget movie still subpar dont get wrong b5 series far best tv series ever exec seeing movie wouldnt ordered series dont like ohare actor costumes silly tons cliches said first season exception babylon squared survivors bruce immediately put fire series went amazing spectacle b5 fan havent seen movie see arent b5 fan dontyou wont want watch series\n",
      "* * * * * * * * * \n",
      "17737\n",
      "first power 1990 terrible film came late 80s early 90s era cheaply made horror films found movie boring extremely hilarious parts movie lacks much sense credibility aint even funny swift justice system film makes texas look weak comparison lou diamond phillips way head role plays hardboiled cop tracey griffith melanies attractive sister plays psychic dont waste time one bad minute take back movie makes great party film check switchblade crucifix packing nun nicest legs ever seen nun wasnt jesus franco nunsploitation flick yeowthis marked end era ldp star tarnished couldnt draw flies dung heap dtv ressurection years laternot recommended unless desperate\n",
      "* * * * * * * * * \n",
      "17974\n",
      "bad acting bad writing poorly written film bad potential even close american pie something mary previous comments might believe rent dollar night local video store kind bored\n",
      "* * * * * * * * * \n",
      "18046\n",
      "happen directors nephew taken years get hands copy film confirm indeed one worst movies time uncle doesnt even copy anymore asked looking forward bringing copycurrently films average rating 1910 far tell put somewhere mid30s imdb bottom 100 however 206 votes hasnt yet placedits sad film doesnt even get respect bottom 100 titleanyhow giving copies movie family members year holiday gifts bestworst gift ever\n",
      "* * * * * * * * * \n",
      "18054\n",
      "woosh man saythe openingscene maybe see bunch mongoloidbarbarians bad makeup jump walls ruins sneak around attack dude scantily clothed captive girl dude runs mongoloids follow one stays behind seemingly rape girl instead exposes one breasts kidnaps dude still run sees horse tries steal suddenly blond godlike looking hero bad wig appears saying thats horse mighty deathstalker made appearance mongoloids arrive deathstalker kills including dude tunes rather inappropriate mexicanos western score supposed swords sorcery flick whats arribatrompettos goes captive girl exposes breasts starts rub captive girl seems like starts liking lips caressing deathstalker get old dude appears interrupting could end perfect day deathstalker possible perfect ending shortfilmnow tell isnt point either feminist would angrily switch movie male viewer would say going one hell good movie plot simple throwing kitten balcony deathstalker must obtain sword justice use steal amulet life chalice magic evil sorcerer munkaraside decapitations dismemberment random bloodshed retarded fist fights embarrassing sword fights film also contains massive amount tts shots initially wanted add one extra point movie gratuitous shot naked boobies could count 9 points even halfway movie give counting distracting rest movie rest movie worth totally crazy stuff check mutant catwormlike creature munkar pet feeds eyeballs fingers heres interesting question would man womans body would enter bedroom try kill knife answer simple slap around bit take away knife try rape discover actually woman throw bed tell leave room works well tell deathstalker deathstalkerway right waydeathstalker wonderful movie really pointed comments villains vile women delicious theres blood sex violence rape tasty chicken theres completely pointless tournament features bunch barbarians beating slashing hacking crap favorite weapon used tournament giant wooden hammer used beat poor contender bloody pulp favorite contender undoubtedly one brute warthoghead reminiscent gamorrean guards return jedi wont reveal movie ends prepare ravish delight tell 4way dismemberment thrown movies climaxand course theres wonderful display ineptitude throughout whole movie see guy dragged behind horse dirt road next pointofview shot shows dragged grass road see awesome tattoo sorcerers head magically change sides within scene shot left side head right well munkar magician movie shot alternate universe things like continuity simply dont existas much enjoyed much looking forward 3 installments series enough shreds decency left let movie pass prepared though give maximum amount minimal points could able deduct couple points possibly inferior sequels follow deathstalker might superbly fun trashy sleazy conan ripoff also abominable movie\n",
      "* * * * * * * * * \n",
      "18211\n",
      "purchased film 5 bargain bin local video store one reason chase masterson crumbled five thrown toilet flushed film bunch twenty somethings peaked high school reunite anniversary idiot friends death got drunk wandered woods died problem reptilian monster hunting one one acting abysmal worthless people apparently cast offs shows like 90210 dawsons creek directing par twelve year old script probably done thirteen year old entire set looks like someones backyard malibu people praised film obviously friends director andor actors avoid pile garbage costs\n",
      "* * * * * * * * * \n",
      "18393\n",
      "well done western got nut riding around blazing sun buggy parasol killing people reasons got person sitting snow cave blizzard cutting pieces anatomy frostbitten got woman house middle somewhere shooting wolves point film couldnt bruce dern find something better waste film\n",
      "* * * * * * * * * \n",
      "18566\n",
      "capt gallagher lemmon flight attendant eve clayton vaccaro supposedly hot item death trip luxury 747 airliner decked look like nightclubslashhotel theres even blind piano player falls love karen wallace grant hysterical b3 wholl anything get attention henpecked husband martin christopher lee later rest people boardmemorable moments boeing 747 belly flop atlantic ocean karen getting chops busted goes far furniture screaming people become ball bearings sinking pinball machinethe action rescue sequences relatively phenomenal much goes hitchcock supposed directed sequel forget reason wouldve done wonders 1970 original sequel partly inspired 77 also got inspiration flight phoenix actors cotten de havilland reunite days hush hush sweet charlotte apparently playing heavies reunited autumn years lovers isnt actress playing emilys companion one played hammeredtodeath maid whatever happened baby janetv actors include girlfriend mayberry rfd characters daughter wins drawing contest something lame like buck rogers gil gerard dynastys pamela bellwood\n",
      "* * * * * * * * * \n",
      "18632\n",
      "derivative predictable raperevenge thrillers thing rare treat dont really appeal couldnt find single thing redeem peculiar tale seems like something straight 1980s different age would gone straight video gillian anderson danny dyer ok work weak script tedious scenario gillian anderson getting involved film like brilliance performance lady deadlock bbc tv adaptation bleak house last year director said influenced witnessing nearrape work documentaries even thats excuse bizarre scene pack rural hounds beat dyer dont think person cinema laughing cant understand involvement companies behind film filmfour verve pictures involved great independent british films recent years verve distributed bullet boy code 46 red road straightheads doesnt deserve mentioned breath filmfour verve take note really best independent british filmmakers going make artistic judgement big blot reputations listen carefully hear thousands fans independent british films crying despair\n",
      "* * * * * * * * * \n",
      "18636\n",
      "well made informative film vein pbs frontline problem frontline already piece managed bring l paul bremer tell side story troubling fact director film charles fergusona former think tank wonk war supporter occupation went south think would happen invasion poland went really well messed pesky nazisand film feels likean apology occupation rather deconstruction act war ferguson seems suggest war could run betteras war better\n",
      "* * * * * * * * * \n",
      "18673\n",
      "well even rate movie one even cinematic value really movie tries get close snuff movie possible basically entire movie purely bunch guys torturing young girl appealing top also realistic reallyits obvious movie tried realistic shocking possible however movie fake work intended slapping stumping soft fake looking well sounding often kicking floor rather girl obviously also way girl responds torments pretty tame mean real surely would screamed moaning screaming one thoughthe movie obviously low budget valor attempt trying achieve something shocking realistic well original provoking limited resources dont really think movie made much impact though time got released though must done something well since total six sequels got released onefans shock gore likely disappointed movie though still fetish people get kick movie410\n",
      "* * * * * * * * * \n",
      "18824\n",
      "really cant get stupider film dealing 3 losers try capture college spirit annual spring break festivities many higher schools learning problem losers try 15 years college years one assigned watch daughter woman senator groomed next vice presidenttrouble daughter anything popular course comes girls go drunken rages exotic dancing absolute nonsenseit really cant get much worse awful film\n",
      "* * * * * * * * * \n",
      "18947\n",
      "play mystery theater 3000 home friends rent movie laughs acting poor sounds terrible fights ridiculously unbelievable thought movie joke looked imbd cant wait rent sequel china obrien ii\n",
      "* * * * * * * * * \n",
      "19001\n",
      "like beautiful girls yeah bad say beautiful girlswomen nothing imo would give movie 2 stars 5 although got talents chiaki kuriyama aya ueto really wanted watch beautiful people watch mtv something thats movie called action movie nevertheless definition even really need plot right agreeing 100 lets say yes need 20 minutes footage part 1 might exaggerating little bit felt like 20 minutes would never know people watched part one might know ate morning breakfast hey lets remind hey maybe remind even twice sure wont forget least credits roll course forget story character development real emotions acting dont think women skirts walking andor fighting accountable acting leave yes action scenes action scenes bad thats reason gave movie 2 stars instead 1 giving movie chance waste time better things dowatch believe\n",
      "* * * * * * * * * \n",
      "19021\n",
      "movie disappointing incomplete dull alec baldwin tried portray perfect fair prosecutor mention executive producer movie never showed defense counsels tried challenge audience actual meaningful debate subject country could led terrible pathsure nobody wants defend nazis point view point nuremberg trails four hours simply bashing nazis cmon thats done alreadyi really think alec baldwin stick kim bassingers husbandright movie ended tnt showed 1959 movie trail nuremberg movie far superior\n",
      "* * * * * * * * * \n",
      "19287\n",
      "movie imdb rating 81 expected much starts funny endearing energy feels spontaneous movie halfway begins drag everything becomes sickingly predictable characters office delightful first third movie get know little well become caricatures real people story seen hundreds times told slightly different circumstances thing could stomach another predictable love story dialog werent stalethe thing could worse characters inconsistent unbelievable motivations unfortunately also case dead letter office hopefully movie end dead movie office soon\n",
      "* * * * * * * * * \n",
      "19593\n",
      "loved original brilliant always strangely though actually looked forward seeing remake usually little bit remakes theres far many somehow intrigued really enjoying begin caine brilliant usual jude law managing hold next quite clever modernised working stops really good last seven minutes goes completely away original far fact ceases clever gets annoying end original fantastic much tension built unbelievably clever grows tension frustration seemed decided make caines character homosexual trying far hard different bang laws dead roll credits film worth watch simply performances last seven minutes really drag pity\n",
      "* * * * * * * * * \n",
      "19683\n",
      "ok slasher movie stupid slasher moviewe got stereotypical teenagers house thing going got fbi agent thats seen dirty harry one time many whats secretpunks got 4 different little camera shots scene make sense hey man fixing sprinklers guy favorite part movie suddenly theres preacher tied couch watching home movies gets killedthey follow killer middle nowhere cops suddenly church wearing wedding dress swear stupidest slasher movie ever seen\n",
      "* * * * * * * * * \n",
      "19832\n",
      "really lost plot one none distinctive trademarks uninteresting plot completely terrible acting make worst film opinion even trademark gore gone bar one scene operating theatre oh well least next film nightmare concert showed could still shock wanted\n",
      "* * * * * * * * * \n",
      "19906\n",
      "watch lots scary movies least try worst 2nd worst movie ever make try sit never knew depths masacism rented piece moldy cheese covered used latex contraceptive fan julian sans worse would hope himon hand story promising intriguedfor first minute half credits rolled yet see pain looked like first hand perhaps viewers enjoyed point right direction know viewers understand commemorate especially turn video simply done watching make one exception obviously remake give chance long 1 original incorporated thats\n",
      "* * * * * * * * * \n",
      "19919\n",
      "unlike adventures buckaroo banzai big trouble little china conan barbarian horrible films certain coolness selfdeprecating humor turn cult sensations golden child plain badthe premise unworkable funny moments eddy murphy flip attitude deflates feeling tension danger story special effects silly enough damage tension mystic secrets tibetan buddhism lampooned rather drawn upon compelwithout feeling anything stake characters faced real danger carewho see film big fans eddy murphy cant help cant think anyone elseill give film 4 10 occasional joke worked\n",
      "* * * * * * * * * \n",
      "19941\n",
      "tom browns schooldays aspect ratio 1781sound format stereoin late 19th century england young tom brown alex pettyfer sent public school rugby experiences reforms radical new headmaster stephen fry stands schools resident bully flashman joseph beattiealready subject numerous screen adaptations notably gordon parrys superior 1951 version thomas hughes evergreen novel gets early 21st century treatment courtesy screenwriter ashley pharoah tvs heart director david moore forsyte saga pleasant enough watchable also rather staid dull distinguished frys sincere performance new principal determined sweep away schools dubious traditions introduction possible new star 14 year old pettyfer talented kid kind effortless charm vivid good looks take way hollywood beyond otherwise typical uk tv fodder kind stuff favored executives eager fill schedules prestige product even one thoroughly unremarkable uk publication radio times described daintily odd raised querulous eyebrow fagging brutality handsome rakish villain torturing life sweet young boys quite\n",
      "* * * * * * * * * \n"
     ]
    }
   ],
   "source": [
    "# false positives\n",
    "\n",
    "print(\"Examples of false positives:\")\n",
    "\n",
    "import random, time\n",
    "\n",
    "for i in range(0, len(ols_predictions)):\n",
    "    if (ols_predictions[i] == 1):\n",
    "        if (X_raw_train.iloc[i]['sentiment'] == 0):\n",
    "            if (random.uniform(0, 1) < 0.05): # to print only 5% of the false positives\n",
    "                print(i)\n",
    "                print(X_raw_train.iloc[i]['review'])\n",
    "                print('* * * * * * * * * ')\n"
   ]
  },
  {
   "cell_type": "markdown",
   "metadata": {},
   "source": [
    "---\n",
    "\n",
    "# <span style=\"color:red\">WARNING: Don't look at test set performance too much!</span>\n",
    "\n",
    "---\n",
    "\n",
    "The following cells show performance on your test set. Do not look at this too often! "
   ]
  },
  {
   "cell_type": "markdown",
   "metadata": {},
   "source": [
    "# Look at performance on the test set"
   ]
  },
  {
   "cell_type": "markdown",
   "metadata": {},
   "source": [
    "### MODEL: ordinary least squares"
   ]
  },
  {
   "cell_type": "code",
   "execution_count": 319,
   "metadata": {},
   "outputs": [
    {
     "name": "stdout",
     "output_type": "stream",
     "text": [
      "{'Pos': 2512, 'Neg': 2488, 'TP': 1360, 'TN': 1240, 'FP': 1248, 'FN': 1152, 'Accuracy': 0.52, 'Precision': 0.5214723926380368, 'Recall': 0.5414012738853503, 'desc': 'ols_test'}\n"
     ]
    }
   ],
   "source": [
    "ols_performance_test = BinaryClassificationPerformance(ols.predict(X_test), y_test, 'ols_test')\n",
    "ols_performance_test.compute_measures()\n",
    "print(ols_performance_test.performance_measures)"
   ]
  },
  {
   "cell_type": "markdown",
   "metadata": {},
   "source": [
    "### MODEL: SVM, linear"
   ]
  },
  {
   "cell_type": "code",
   "execution_count": 320,
   "metadata": {},
   "outputs": [
    {
     "name": "stdout",
     "output_type": "stream",
     "text": [
      "{'Pos': 2512, 'Neg': 2488, 'TP': 2055, 'TN': 2047, 'FP': 441, 'FN': 457, 'Accuracy': 0.8204, 'Precision': 0.8233173076923077, 'Recall': 0.8180732484076433, 'desc': 'svm_test'}\n"
     ]
    }
   ],
   "source": [
    "svm_performance_test = BinaryClassificationPerformance(svm.predict(X_test), y_test, 'svm_test')\n",
    "svm_performance_test.compute_measures()\n",
    "print(svm_performance_test.performance_measures)"
   ]
  },
  {
   "cell_type": "markdown",
   "metadata": {},
   "source": [
    "### MODEL: logistic regression"
   ]
  },
  {
   "cell_type": "code",
   "execution_count": 321,
   "metadata": {},
   "outputs": [
    {
     "name": "stdout",
     "output_type": "stream",
     "text": [
      "{'Pos': 2512, 'Neg': 2488, 'TP': 2088, 'TN': 2009, 'FP': 479, 'FN': 424, 'Accuracy': 0.8194, 'Precision': 0.8134008570315543, 'Recall': 0.8312101910828026, 'desc': 'lgs_test'}\n"
     ]
    }
   ],
   "source": [
    "lgs_performance_test = BinaryClassificationPerformance(lgs.predict(X_test), y_test, 'lgs_test')\n",
    "lgs_performance_test.compute_measures()\n",
    "print(lgs_performance_test.performance_measures)"
   ]
  },
  {
   "cell_type": "markdown",
   "metadata": {},
   "source": [
    "### MODEL: Naive Bayes"
   ]
  },
  {
   "cell_type": "code",
   "execution_count": 322,
   "metadata": {},
   "outputs": [
    {
     "name": "stdout",
     "output_type": "stream",
     "text": [
      "{'Pos': 2512, 'Neg': 2488, 'TP': 1780, 'TN': 1717, 'FP': 771, 'FN': 732, 'Accuracy': 0.6994, 'Precision': 0.697765582124657, 'Recall': 0.7085987261146497, 'desc': 'nbs_test'}\n"
     ]
    }
   ],
   "source": [
    "nbs_performance_test = BinaryClassificationPerformance(nbs.predict(X_test), y_test, 'nbs_test')\n",
    "nbs_performance_test.compute_measures()\n",
    "print(nbs_performance_test.performance_measures)"
   ]
  },
  {
   "cell_type": "markdown",
   "metadata": {},
   "source": [
    "### MODEL: Perceptron"
   ]
  },
  {
   "cell_type": "code",
   "execution_count": 323,
   "metadata": {},
   "outputs": [
    {
     "name": "stdout",
     "output_type": "stream",
     "text": [
      "{'Pos': 2512, 'Neg': 2488, 'TP': 2080, 'TN': 2004, 'FP': 484, 'FN': 432, 'Accuracy': 0.8168, 'Precision': 0.8112324492979719, 'Recall': 0.8280254777070064, 'desc': 'prc_test'}\n"
     ]
    }
   ],
   "source": [
    "prc_performance_test = BinaryClassificationPerformance(prc.predict(X_test), y_test, 'prc_test')\n",
    "prc_performance_test.compute_measures()\n",
    "print(prc_performance_test.performance_measures)"
   ]
  },
  {
   "cell_type": "markdown",
   "metadata": {},
   "source": [
    "### MODEL: Ridge Regression Classifier"
   ]
  },
  {
   "cell_type": "code",
   "execution_count": 324,
   "metadata": {},
   "outputs": [
    {
     "name": "stdout",
     "output_type": "stream",
     "text": [
      "{'Pos': 2512, 'Neg': 2488, 'TP': 2194, 'TN': 2138, 'FP': 350, 'FN': 318, 'Accuracy': 0.8664, 'Precision': 0.8624213836477987, 'Recall': 0.8734076433121019, 'desc': 'rdg_test'}\n"
     ]
    }
   ],
   "source": [
    "rdg_performance_test = BinaryClassificationPerformance(rdg.predict(X_test), y_test, 'rdg_test')\n",
    "rdg_performance_test.compute_measures()\n",
    "print(rdg_performance_test.performance_measures)"
   ]
  },
  {
   "cell_type": "markdown",
   "metadata": {},
   "source": [
    "### MODEL: Random Forest Classifier"
   ]
  },
  {
   "cell_type": "code",
   "execution_count": 325,
   "metadata": {},
   "outputs": [
    {
     "name": "stdout",
     "output_type": "stream",
     "text": [
      "{'Pos': 2512, 'Neg': 2488, 'TP': 1109, 'TN': 1891, 'FP': 597, 'FN': 1403, 'Accuracy': 0.6, 'Precision': 0.6500586166471278, 'Recall': 0.44148089171974525, 'desc': 'rdf_test'}\n"
     ]
    }
   ],
   "source": [
    "rdf_performance_test = BinaryClassificationPerformance(rdf.predict(X_test), y_test, 'rdf_test')\n",
    "rdf_performance_test.compute_measures()\n",
    "print(rdf_performance_test.performance_measures)"
   ]
  },
  {
   "cell_type": "markdown",
   "metadata": {},
   "source": [
    "### ROC plot to compare performance of various models and fits"
   ]
  },
  {
   "cell_type": "code",
   "execution_count": 328,
   "metadata": {},
   "outputs": [
    {
     "name": "stdout",
     "output_type": "stream",
     "text": [
      "-SVM-\n",
      "True Positive rate: \n",
      "0.8180732484076433\n",
      "False Positive rate: \n",
      "0.1772508038585209\n",
      "-Logistic-\n",
      "True Positive rate: \n",
      "0.8312101910828026\n",
      "False Positive rate: \n",
      "0.192524115755627\n",
      "-Naive Bayes-\n",
      "True Positive rate: \n",
      "0.7085987261146497\n",
      "False Positive rate: \n",
      "0.30988745980707394\n",
      "-Perceptron-\n",
      "True Positive rate: \n",
      "0.8280254777070064\n",
      "False Positive rate: \n",
      "0.1945337620578778\n",
      "-Ridge R-\n",
      "True Positive rate: \n",
      "0.8734076433121019\n",
      "False Positive rate: \n",
      "0.14067524115755628\n",
      "-Random Forest-\n",
      "True Positive rate: \n",
      "0.44148089171974525\n",
      "False Positive rate: \n",
      "0.23995176848874597\n"
     ]
    },
    {
     "data": {
      "image/png": "[encoded data removed]",
      "text/plain": [
       "<Figure size 432x288 with 1 Axes>"
      ]
     },
     "metadata": {
      "needs_background": "light"
     },
     "output_type": "display_data"
    }
   ],
   "source": [
    "fits = [svm_performance_test, lgs_performance_test, nbs_performance_test, prc_performance_test, rdg_performance_test, rdf_performance_test]\n",
    "fits_name = [\"-SVM-\", \"-Logistic-\", \"-Naive Bayes-\", \"-Perceptron-\", \"-Ridge R-\", \"-Random Forest-\"]\n",
    "for i, fit in enumerate(fits): \n",
    "    TP_POS_rate = fit.performance_measures['TP'] / fit.performance_measures['Pos']\n",
    "    FP_NEG_rate = fit.performance_measures['FP'] / fit.performance_measures['Neg']\n",
    "    # print in numbers \n",
    "    print(fits_name[i])\n",
    "    print(\"True Positive rate: \")\n",
    "    print(TP_POS_rate)\n",
    "    print(\"False Positive rate: \")\n",
    "    print(FP_NEG_rate)\n",
    "    # plt\n",
    "    plt.plot(FP_NEG_rate, TP_POS_rate, 'bo')\n",
    "    plt.text(FP_NEG_rate, TP_POS_rate, fit.desc)\n",
    "# draw\n",
    "plt.axis([0, 1, 0, 1])\n",
    "plt.title('ROC plot: test set')\n",
    "plt.xlabel('False positive rate')\n",
    "plt.ylabel('True positive rate')\n",
    "plt.show()"
   ]
  },
  {
   "cell_type": "markdown",
   "metadata": {},
   "source": [
    "---\n",
    "\n",
    "# <span style=\"color:red\">SUBMISSION</span>\n",
    "\n",
    "---"
   ]
  },
  {
   "cell_type": "code",
   "execution_count": 329,
   "metadata": {},
   "outputs": [
    {
     "name": "stdout",
     "output_type": "stream",
     "text": [
      "movie_data is: <class 'pandas.core.frame.DataFrame'>\n",
      "movie_data has 25000 rows and 2 columns \n",
      "\n",
      "the data types for each of the columns in movie_data:\n",
      "id        object\n",
      "review    object\n",
      "dtype: object \n",
      "\n",
      "the first 10 rows in movie_data:\n",
      "         id                                             review\n",
      "0  12311_10  Naturally in a film who's main themes are of m...\n",
      "1    8348_2  This movie is a disaster within a disaster fil...\n",
      "2    5828_4  All in all, this is a movie for kids. We saw i...\n",
      "3    7186_2  Afraid of the Dark left me with the impression...\n",
      "4   12128_7  A very accurate depiction of small time mob li...\n",
      "5    2913_8  ...as valuable as King Tut's tomb! (OK, maybe ...\n",
      "6    4396_1  This has to be one of the biggest misfires eve...\n",
      "7     395_2  This is one of those movies I watched, and won...\n",
      "8   10616_1  The worst movie i've seen in years (and i've s...\n",
      "9    9074_9  Five medical students (Kevin Bacon, David Labr...\n",
      "Sample of clean movie_data review: \n",
      "18634    one beautifully morbid films ever seen merhige...\n",
      "1333     unlike one reviewers dont think great glitteri...\n",
      "20315    beginning left doctor rose alternative dad mic...\n",
      "Name: review, dtype: object\n",
      "Shape of HashingVectorizer X:\n",
      "(25000, 262144)\n",
      "Look at a few rows of the new quantitative features: \n",
      "   remainders_count\n",
      "0                73\n",
      "1                84\n",
      "2                83\n",
      "3                53\n",
      "4                76\n",
      "5               164\n",
      "6                60\n",
      "7               115\n",
      "8                29\n",
      "9               144\n",
      "Size of combined bag of words and new quantitative variables matrix:\n",
      "(25000, 262145)\n",
      "(25000, 262145)\n",
      "Shape of X_test for submission:\n",
      "(25000, 262145)\n",
      "SUCCESS!\n",
      "Number of rows in the submission test set (should be 25,000): \n"
     ]
    }
   ],
   "source": [
    "# read in test data for submission\n",
    "# CHANGED - FILE PATH and my_random_seed number:  \n",
    "raw_data, X_test_submission = process_raw_data(fn='../final_data/moviereviews_test.tsv', my_random_seed=99, test=True)\n",
    "print(\"Number of rows in the submission test set (should be 25,000): \")"
   ]
  },
  {
   "cell_type": "markdown",
   "metadata": {},
   "source": [
    "---\n",
    "\n",
    "Choose a <span style=\"color:red\">*single*</span> model for your submission. In this code, I am choosing the Ordinary Least Squares model fit, which is in the `ols` object. But you should choose the model that is performing the best for you! -> Choosing ridge regression"
   ]
  },
  {
   "cell_type": "code",
   "execution_count": 330,
   "metadata": {},
   "outputs": [
    {
     "name": "stdout",
     "output_type": "stream",
     "text": [
      "0.49944\n"
     ]
    }
   ],
   "source": [
    "# store the id from the raw data\n",
    "my_submission = pd.DataFrame(raw_data[\"id\"])\n",
    "# concatenate predictions to the id\n",
    "# ridge regression selected\n",
    "my_submission[\"prediction\"] = rdg.predict(X_test_submission)\n",
    "# look at the proportion of positive predictions\n",
    "print(my_submission['prediction'].mean())"
   ]
  },
  {
   "cell_type": "code",
   "execution_count": 335,
   "metadata": {},
   "outputs": [
    {
     "data": {
      "text/html": [
       "<div>\n",
       "<style scoped>\n",
       "    .dataframe tbody tr th:only-of-type {\n",
       "        vertical-align: middle;\n",
       "    }\n",
       "\n",
       "    .dataframe tbody tr th {\n",
       "        vertical-align: top;\n",
       "    }\n",
       "\n",
       "    .dataframe thead th {\n",
       "        text-align: right;\n",
       "    }\n",
       "</style>\n",
       "<table border=\"1\" class=\"dataframe\">\n",
       "  <thead>\n",
       "    <tr style=\"text-align: right;\">\n",
       "      <th></th>\n",
       "      <th>id</th>\n",
       "      <th>review</th>\n",
       "      <th>word_count</th>\n",
       "      <th>punc_count</th>\n",
       "      <th>stop_count</th>\n",
       "      <th>remainders_count</th>\n",
       "    </tr>\n",
       "  </thead>\n",
       "  <tbody>\n",
       "    <tr>\n",
       "      <td>0</td>\n",
       "      <td>12311_10</td>\n",
       "      <td>naturally film whos main themes mortality nost...</td>\n",
       "      <td>131</td>\n",
       "      <td>5</td>\n",
       "      <td>58</td>\n",
       "      <td>73</td>\n",
       "    </tr>\n",
       "    <tr>\n",
       "      <td>1</td>\n",
       "      <td>8348_2</td>\n",
       "      <td>movie disaster within disaster film full great...</td>\n",
       "      <td>169</td>\n",
       "      <td>15</td>\n",
       "      <td>82</td>\n",
       "      <td>84</td>\n",
       "    </tr>\n",
       "    <tr>\n",
       "      <td>2</td>\n",
       "      <td>5828_4</td>\n",
       "      <td>movie kids saw tonight child loved one point k...</td>\n",
       "      <td>176</td>\n",
       "      <td>18</td>\n",
       "      <td>89</td>\n",
       "      <td>83</td>\n",
       "    </tr>\n",
       "    <tr>\n",
       "      <td>3</td>\n",
       "      <td>7186_2</td>\n",
       "      <td>afraid dark left impression several different ...</td>\n",
       "      <td>112</td>\n",
       "      <td>5</td>\n",
       "      <td>54</td>\n",
       "      <td>53</td>\n",
       "    </tr>\n",
       "    <tr>\n",
       "      <td>4</td>\n",
       "      <td>12128_7</td>\n",
       "      <td>accurate depiction small time mob life filmed ...</td>\n",
       "      <td>133</td>\n",
       "      <td>8</td>\n",
       "      <td>53</td>\n",
       "      <td>76</td>\n",
       "    </tr>\n",
       "    <tr>\n",
       "      <td>5</td>\n",
       "      <td>2913_8</td>\n",
       "      <td>valuable king tuts tomb ok maybe valuable wort...</td>\n",
       "      <td>331</td>\n",
       "      <td>20</td>\n",
       "      <td>164</td>\n",
       "      <td>164</td>\n",
       "    </tr>\n",
       "    <tr>\n",
       "      <td>6</td>\n",
       "      <td>4396_1</td>\n",
       "      <td>one biggest misfires everthe script nice could...</td>\n",
       "      <td>121</td>\n",
       "      <td>18</td>\n",
       "      <td>54</td>\n",
       "      <td>60</td>\n",
       "    </tr>\n",
       "    <tr>\n",
       "      <td>7</td>\n",
       "      <td>395_2</td>\n",
       "      <td>one movies watched wondered watch find interes...</td>\n",
       "      <td>230</td>\n",
       "      <td>22</td>\n",
       "      <td>109</td>\n",
       "      <td>115</td>\n",
       "    </tr>\n",
       "    <tr>\n",
       "      <td>8</td>\n",
       "      <td>10616_1</td>\n",
       "      <td>worst movie seen years seen lot movies acting ...</td>\n",
       "      <td>59</td>\n",
       "      <td>3</td>\n",
       "      <td>29</td>\n",
       "      <td>29</td>\n",
       "    </tr>\n",
       "    <tr>\n",
       "      <td>9</td>\n",
       "      <td>9074_9</td>\n",
       "      <td>five medical students kevin bacon david labrac...</td>\n",
       "      <td>224</td>\n",
       "      <td>14</td>\n",
       "      <td>70</td>\n",
       "      <td>144</td>\n",
       "    </tr>\n",
       "  </tbody>\n",
       "</table>\n",
       "</div>"
      ],
      "text/plain": [
       "         id                                             review  word_count  \\\n",
       "0  12311_10  naturally film whos main themes mortality nost...         131   \n",
       "1    8348_2  movie disaster within disaster film full great...         169   \n",
       "2    5828_4  movie kids saw tonight child loved one point k...         176   \n",
       "3    7186_2  afraid dark left impression several different ...         112   \n",
       "4   12128_7  accurate depiction small time mob life filmed ...         133   \n",
       "5    2913_8  valuable king tuts tomb ok maybe valuable wort...         331   \n",
       "6    4396_1  one biggest misfires everthe script nice could...         121   \n",
       "7     395_2  one movies watched wondered watch find interes...         230   \n",
       "8   10616_1  worst movie seen years seen lot movies acting ...          59   \n",
       "9    9074_9  five medical students kevin bacon david labrac...         224   \n",
       "\n",
       "   punc_count  stop_count  remainders_count  \n",
       "0           5          58                73  \n",
       "1          15          82                84  \n",
       "2          18          89                83  \n",
       "3           5          54                53  \n",
       "4           8          53                76  \n",
       "5          20         164               164  \n",
       "6          18          54                60  \n",
       "7          22         109               115  \n",
       "8           3          29                29  \n",
       "9          14          70               144  "
      ]
     },
     "execution_count": 335,
     "metadata": {},
     "output_type": "execute_result"
    }
   ],
   "source": [
    "raw_data.head(10)"
   ]
  },
  {
   "cell_type": "code",
   "execution_count": 336,
   "metadata": {},
   "outputs": [
    {
     "data": {
      "text/html": [
       "<div>\n",
       "<style scoped>\n",
       "    .dataframe tbody tr th:only-of-type {\n",
       "        vertical-align: middle;\n",
       "    }\n",
       "\n",
       "    .dataframe tbody tr th {\n",
       "        vertical-align: top;\n",
       "    }\n",
       "\n",
       "    .dataframe thead th {\n",
       "        text-align: right;\n",
       "    }\n",
       "</style>\n",
       "<table border=\"1\" class=\"dataframe\">\n",
       "  <thead>\n",
       "    <tr style=\"text-align: right;\">\n",
       "      <th></th>\n",
       "      <th>id</th>\n",
       "      <th>prediction</th>\n",
       "    </tr>\n",
       "  </thead>\n",
       "  <tbody>\n",
       "    <tr>\n",
       "      <td>0</td>\n",
       "      <td>12311_10</td>\n",
       "      <td>1</td>\n",
       "    </tr>\n",
       "    <tr>\n",
       "      <td>1</td>\n",
       "      <td>8348_2</td>\n",
       "      <td>0</td>\n",
       "    </tr>\n",
       "    <tr>\n",
       "      <td>2</td>\n",
       "      <td>5828_4</td>\n",
       "      <td>1</td>\n",
       "    </tr>\n",
       "    <tr>\n",
       "      <td>3</td>\n",
       "      <td>7186_2</td>\n",
       "      <td>1</td>\n",
       "    </tr>\n",
       "    <tr>\n",
       "      <td>4</td>\n",
       "      <td>12128_7</td>\n",
       "      <td>1</td>\n",
       "    </tr>\n",
       "    <tr>\n",
       "      <td>5</td>\n",
       "      <td>2913_8</td>\n",
       "      <td>1</td>\n",
       "    </tr>\n",
       "    <tr>\n",
       "      <td>6</td>\n",
       "      <td>4396_1</td>\n",
       "      <td>0</td>\n",
       "    </tr>\n",
       "    <tr>\n",
       "      <td>7</td>\n",
       "      <td>395_2</td>\n",
       "      <td>0</td>\n",
       "    </tr>\n",
       "    <tr>\n",
       "      <td>8</td>\n",
       "      <td>10616_1</td>\n",
       "      <td>0</td>\n",
       "    </tr>\n",
       "    <tr>\n",
       "      <td>9</td>\n",
       "      <td>9074_9</td>\n",
       "      <td>0</td>\n",
       "    </tr>\n",
       "  </tbody>\n",
       "</table>\n",
       "</div>"
      ],
      "text/plain": [
       "         id  prediction\n",
       "0  12311_10           1\n",
       "1    8348_2           0\n",
       "2    5828_4           1\n",
       "3    7186_2           1\n",
       "4   12128_7           1\n",
       "5    2913_8           1\n",
       "6    4396_1           0\n",
       "7     395_2           0\n",
       "8   10616_1           0\n",
       "9    9074_9           0"
      ]
     },
     "execution_count": 336,
     "metadata": {},
     "output_type": "execute_result"
    }
   ],
   "source": [
    "my_submission.head(10)"
   ]
  },
  {
   "cell_type": "code",
   "execution_count": 333,
   "metadata": {},
   "outputs": [
    {
     "data": {
      "text/plain": [
       "(25000, 2)"
      ]
     },
     "execution_count": 333,
     "metadata": {},
     "output_type": "execute_result"
    }
   ],
   "source": [
    "my_submission.shape"
   ]
  },
  {
   "cell_type": "code",
   "execution_count": 334,
   "metadata": {},
   "outputs": [],
   "source": [
    "# export submission file as csv\n",
    "# CHANGE FILE PATH: \n",
    "my_submission.to_csv('../final_data/moviereviews_submission.csv', index=False)"
   ]
  },
  {
   "cell_type": "markdown",
   "metadata": {},
   "source": [
    "# Submit to Canvas: 1) the CSV file that was written in the previous cell and 2) the url to the repository (GitHub or other) that contains your code and documentation"
   ]
  }
 ],
 "metadata": {
  "kernelspec": {
   "display_name": "Python 3",
   "language": "python",
   "name": "python3"
  },
  "language_info": {
   "codemirror_mode": {
    "name": "ipython",
    "version": 3
   },
   "file_extension": ".py",
   "mimetype": "text/x-python",
   "name": "python",
   "nbconvert_exporter": "python",
   "pygments_lexer": "ipython3",
   "version": "3.7.4"
  }
 },
 "nbformat": 4,
 "nbformat_minor": 2
}
